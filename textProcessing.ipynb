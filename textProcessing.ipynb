{
 "cells": [
  {
   "cell_type": "markdown",
   "metadata": {},
   "source": [
    "## tugas 2 - clean number & symbol - stopword - Stemming"
   ]
  },
  {
   "cell_type": "code",
   "execution_count": 47,
   "metadata": {},
   "outputs": [],
   "source": [
    "import pandas as pd\n",
    "import nltk\n",
    "from nltk.corpus import stopwords\n",
    "from nltk import word_tokenize\n",
    "import numpy as np\n",
    "from Sastrawi.Stemmer.StemmerFactory import StemmerFactory\n"
   ]
  },
  {
   "cell_type": "markdown",
   "metadata": {},
   "source": [
    "## import data frame"
   ]
  },
  {
   "cell_type": "code",
   "execution_count": 50,
   "metadata": {},
   "outputs": [
    {
     "data": {
      "text/html": [
       "<div>\n",
       "<style scoped>\n",
       "    .dataframe tbody tr th:only-of-type {\n",
       "        vertical-align: middle;\n",
       "    }\n",
       "\n",
       "    .dataframe tbody tr th {\n",
       "        vertical-align: top;\n",
       "    }\n",
       "\n",
       "    .dataframe thead th {\n",
       "        text-align: right;\n",
       "    }\n",
       "</style>\n",
       "<table border=\"1\" class=\"dataframe\">\n",
       "  <thead>\n",
       "    <tr style=\"text-align: right;\">\n",
       "      <th></th>\n",
       "      <th>judul</th>\n",
       "      <th>abstrak_ID</th>\n",
       "    </tr>\n",
       "  </thead>\n",
       "  <tbody>\n",
       "    <tr>\n",
       "      <th>0</th>\n",
       "      <td>PENGARUH RELATIONSHIP MARKETING TERHADAP LOYAL...</td>\n",
       "      <td>Tujuan penelitian ini adalah untuk mengetahui ...</td>\n",
       "    </tr>\n",
       "    <tr>\n",
       "      <th>1</th>\n",
       "      <td>PENGARUH SELF EFFICACY TERHADAP PRESTASI AKADE...</td>\n",
       "      <td>Tujuan dari penelitian ini adalah untuk menget...</td>\n",
       "    </tr>\n",
       "    <tr>\n",
       "      <th>2</th>\n",
       "      <td>ANALISIS PERSEPSI BRAND ASSOCIATION MENURUT PE...</td>\n",
       "      <td>Tujuan penelitian ini adalah untuk mengetahui ...</td>\n",
       "    </tr>\n",
       "    <tr>\n",
       "      <th>3</th>\n",
       "      <td>Pengukuran Website Quality Pada Situs Sistem A...</td>\n",
       "      <td>Aplikasi nyata pemanfaatan teknologi informasi...</td>\n",
       "    </tr>\n",
       "    <tr>\n",
       "      <th>4</th>\n",
       "      <td>PENGARUH STRUKTUR MODAL DAN LIKUIDITAS TERHADA...</td>\n",
       "      <td>Pendekatan penelitian yang digunakan dalam pen...</td>\n",
       "    </tr>\n",
       "  </tbody>\n",
       "</table>\n",
       "</div>"
      ],
      "text/plain": [
       "                                               judul  \\\n",
       "0  PENGARUH RELATIONSHIP MARKETING TERHADAP LOYAL...   \n",
       "1  PENGARUH SELF EFFICACY TERHADAP PRESTASI AKADE...   \n",
       "2  ANALISIS PERSEPSI BRAND ASSOCIATION MENURUT PE...   \n",
       "3  Pengukuran Website Quality Pada Situs Sistem A...   \n",
       "4  PENGARUH STRUKTUR MODAL DAN LIKUIDITAS TERHADA...   \n",
       "\n",
       "                                          abstrak_ID  \n",
       "0  Tujuan penelitian ini adalah untuk mengetahui ...  \n",
       "1  Tujuan dari penelitian ini adalah untuk menget...  \n",
       "2  Tujuan penelitian ini adalah untuk mengetahui ...  \n",
       "3  Aplikasi nyata pemanfaatan teknologi informasi...  \n",
       "4  Pendekatan penelitian yang digunakan dalam pen...  "
      ]
     },
     "execution_count": 50,
     "metadata": {},
     "output_type": "execute_result"
    }
   ],
   "source": [
    "#import data frame\n",
    "dataCSV = pd.read_csv('data_pta.csv')\n",
    "dataCSV = dataCSV.drop(columns=['penulis', 'dosen_1','dosen_2', 'abstrak_EN'], axis=1)\n",
    "dataCSV.head()"
   ]
  },
  {
   "cell_type": "code",
   "execution_count": 51,
   "metadata": {},
   "outputs": [
    {
     "data": {
      "text/plain": [
       "judul         0\n",
       "abstrak_ID    1\n",
       "dtype: int64"
      ]
     },
     "execution_count": 51,
     "metadata": {},
     "output_type": "execute_result"
    }
   ],
   "source": [
    "dataCSV.isna().sum()"
   ]
  },
  {
   "cell_type": "code",
   "execution_count": 52,
   "metadata": {},
   "outputs": [],
   "source": [
    "dataCSV = dataCSV.dropna(axis=0, how='any')"
   ]
  },
  {
   "cell_type": "code",
   "execution_count": 53,
   "metadata": {},
   "outputs": [
    {
     "data": {
      "text/plain": [
       "judul         0\n",
       "abstrak_ID    0\n",
       "dtype: int64"
      ]
     },
     "execution_count": 53,
     "metadata": {},
     "output_type": "execute_result"
    }
   ],
   "source": [
    "dataCSV.isna().sum()"
   ]
  },
  {
   "cell_type": "markdown",
   "metadata": {},
   "source": [
    "## Stopword NLK"
   ]
  },
  {
   "cell_type": "code",
   "execution_count": 54,
   "metadata": {},
   "outputs": [
    {
     "name": "stdout",
     "output_type": "stream",
     "text": [
      "[['tujuan', 'penelitian', 'pengaruh', 'variabel', 'relationship', 'marketing', 'keuntungan', 'komitmen', 'komunikasi', 'kebenaran', 'loyalitas', 'nasabah', 'adira', 'finance', 'variabel', 'relationship', 'marketing', 'berpengaruh', 'loyalitas', 'nasabah', 'adira', 'finance', 'wilayah', 'surabaya', 'barat', 'berdasarkan', 'uji', 'f', 'variabel', 'relationship', 'marketing', 'keuntungan', 'komitmen', 'komunikasi', 'kebenaran', 'simultan', 'berpengaruh', 'signifikan', 'loyalitas', 'nasabah', 'adira', 'finance', 'wilayah', 'surabaya', 'barat', 'berdasarkan', 'uji', 't', 'parsial', 'variabel', 'keuntungan', 'komitmen', 'kebenaran', 'berpengaruh', 'signifikan', 'variabel', 'terikat', 'variabel', 'komunikasi', 'berpengaruh', 'negatif', 'variabel', 'terikat', 'variabel', 'berpengaruh', 'variabel', 'komitmen', 'kunci', 'relationship', 'marketing', 'keuntungan', 'komitmen', 'komunikasi', 'kebenaran', 'loyalitas'], ['tujuan', 'penelitian', 'pengaruh', 'variabel', 'self', 'efficacy', 'magnitude', 'generality', 'strength', 'prestasi', 'akademik', 'mahasiswa', 'berprestasi', 'universitas', 'trunojoyo', 'madura', 'dimana', 'mahasiswa', 'diambil', 'mahasiswa', 'mengikuti', 'mawapres', 'universitas', 'trunojoyo', 'madura', 'orang', 'teknik', 'analisis', 'analisis', 'regresi', 'linier', 'berganda', 'hipotesis', 'penelitian', 'self', 'efficacy', 'variabel', 'magnitude', 'generality', 'strength', 'berpengaruh', 'prestasi', 'akademik', 'berdasarkan', 'pengujian', 'hipotesis', 'diterima', 'temuan', 'penelitian', 'variabel', 'self', 'efficacy', 'teridiri', 'magnitude', 'generality', 'strength', 'berpengaruh', 'signifikan', 'prestasi', 'akademik', 'mawapres', 'universitas', 'trunojoyo', 'madura', 'diperoleh', 'nilai', 'variabel', 'magnitude', 'generality', 'strength', 'pengaruh', 'prestasi', 'akademik', 'sisanya', 'dipengaruhi', 'faktor', 'variabel', 'diteliti', 'kunci', 'self', 'efficacy', 'prestasi', 'akademik'], ['tujuan', 'penelitian', 'persepsi', 'brand', 'association', 'pelanggan', 'pakaian', 'kiddrock', 'studi', 'distro', 'cranberries', 'pamekasan', 'penelitian', 'metode', 'deskriptif', 'metode', 'survei', 'populasi', 'penelitian', 'pelanggan', 'pakaian', 'kiddrock', 'distro', 'cranberries', 'sampel', 'penelitian', 'orang', 'responden', 'distro', 'cranberries', 'desember', 'metode', 'pengambilan', 'sampel', 'sampling', 'aksidental', 'metode', 'pengumpulan', 'data', 'penelitian', 'lapangan', 'field', 'research', 'membagikan', 'kuesioner', 'riset', 'perpustakaan', 'data', 'teknik', 'pengolahan', 'data', 'pengolaha', 'data', 'bantuan', 'perangkat', 'lunak', 'spss', 'versi', 'uji', 'validitas', 'uji', 'reabilitas', 'skala', 'likert', 'persepsi', 'konsumen', 'brand', 'association', 'dimensi', 'dimensi', 'jaminan', 'dimensi', 'identifikasi', 'pribadi', 'dimensi', 'identifikasi', 'sosial', 'dimensi', 'status', 'dimensi', 'kesediaan', 'menerima', 'perluasan', 'merek', 'dimensi', 'kesediaan', 'merekomendasikan', 'merek', 'hasil', 'analisis', 'menunjukan', 'persepsi', 'brand', 'association', 'pelanggan', 'pakaian', 'kiddrock', 'distro', 'cranberriess', 'apresisasikan', 'dimensi', 'jaminan', 'kunci', 'brand', 'association', 'presepsi', 'kiddrock', 'cranberries'], ['aplikasi', 'nyata', 'pemanfaatan', 'teknologi', 'informasi', 'komunikasi', 'bidang', 'layanan', 'administrasi', 'akademik', 'perguruan', 'salah', 'satunya', 'sistem', 'portal', 'akademik', 'universitas', 'trunojoyo', 'madura', 'implementasi', 'proses', 'penyelenggaraannya', 'menemui', 'kendala', 'teknis', 'non', 'teknis', 'penelitian', 'bertujuan', 'kepuasan', 'pelanggan', 'berdasarkan', 'analisis', 'indeks', 'kepuasan', 'pelanggan', 'ditinjau', 'webqual', 'fokus', 'perbaikan', 'mutu', 'pelayanan', 'website', 'portal', 'akademik', 'universitas', 'trunjoyo', 'madura', 'berdasarkan', 'importance', 'performance', 'analysis', 'ditinjau', 'webqual', 'penelitian', 'penelitian', 'kuantitaif', 'deskriptif', 'gambaran', 'deskripsi', 'lukisan', 'sistematis', 'faktual', 'akurat', 'kualitas', 'pelayanan', 'jasa', 'online', 'teknik', 'sampel', 'teknik', 'stratified', 'random', 'sampling', 'alat', 'analisis', 'indeks', 'kepuasan', 'pelanggan', 'analisis', 'tingkat', 'kepentingan', 'kinerja', 'hasil', 'penelitian', 'skor', 'indeks', 'kepuasan', 'pelanggan', 'ikp', 'masuk', 'kategori', 'puas', 'diagram', 'kartesius', 'importance', 'performance', 'atribut', 'prioritas', 'utama', 'perbaikan', 'mutu', 'situs', 'portal', 'akademik', 'universitas', 'trunojoyo', 'madura', 'informasi', 'administrasi', 'akademik', 'mahasiswa', 'detail', 'ter', 'update', 'ki', 'informasi', 'administrasi', 'akademik', 'disitus', 'portal', 'akademik', 'utm', 'dipercaya', 'ki', 'portal', 'utm', 'pengguna', 'aman', 'data', 'akademik', 'mahasiswa', 'krs', 'khs', 'transkrip', 'data', 'personal', 'sesuai', 'kip', 'kunci', 'website', 'importance', 'performance', 'webqual', 'indeks', 'kepuasan', 'pelanggan'], ['pendekatan', 'penelitian', 'penelitian', 'pendekatan', 'kuantitatif', 'populasi', 'penelitian', 'perusahaan', 'liquid', 'terdaftar', 'bursa', 'efek', 'indonesia', 'teknik', 'penarikan', 'sampel', 'metode', 'purpossive', 'sampling', 'dianalisis', 'uji', 'regresi', 'linier', 'berganda', 'bantuan', 'alat', 'analisis', 'statistical', 'program', 'for', 'service', 'solution', 'spss', 'versi', 'hipotesis', 'penelitian', 'duga', 'pengaruh', 'parsial', 'simultan', 'variabel', 'rasio', 'likuiditas', 'current', 'ratio', 'struktur', 'modal', 'debt', 'to', 'equity', 'ratio', 'profitabilitas', 'roe', 'perusahaan', 'liquid', 'terdaftar', 'bursa', 'efek', 'indonesia', 'hasil', 'penelitian', 'variabel', 'current', 'ratio', 'parsial', 'memiliki', 'pengaruh', 'signifikan', 'profitabilitas', 'roe', 'variabel', 'debt', 'to', 'equity', 'ratio', 'parsial', 'memiliki', 'pengaruh', 'signifikan', 'profitabilitas', 'roe', 'berdasarkan', 'hasil', 'uji', 'simultan', 'uji', 'f', 'didapatkan', 'hasil', 'current', 'ratio', 'debt', 'to', 'equity', 'ratio', 'memiliki', 'pengaruh', 'signifikan', 'profitabilitas', 'lq', 'kunci', 'likuiditas', 'current', 'ratio', 'struktur', 'modal', 'debt', 'to', 'equity', 'ratio', 'profitabilitas', 'roe'], ['abstrak', 'satiyah', 'pengaruh', 'pelatihan', 'pengembangan', 'produktivitas', 'kerja', 'dinas', 'kelautan', 'perikanan', 'bangkalan', 'dibawah', 'bimbingan', 'irawati', 'mm', 'helmi', 'buyung', 'aulia', 's', 'upaya', 'meningkatkan', 'produktivitas', 'kerja', 'mudah', 'salah', 'usaha', 'produktivitas', 'meningkat', 'menerapkan', 'program', 'pelatihan', 'pengembangan', 'sumber', 'daya', 'manusia', 'sdm', 'dilaksanakan', 'instansi', 'produktivitas', 'tercapai', 'meningkat', 'kemampuan', 'pegawai', 'efektif', 'efisien', 'pelatihan', 'pengembnagan', 'diharapkan', 'pegawai', 'menyesuaikan', 'sikap', 'tingkah', 'laku', 'keterampilan', 'pengetahuan', 'sesuai', 'tuntutan', 'perubahan', 'pelatihan', 'pengembangan', 'pegawai', 'mendukung', 'terciptanya', 'suasana', 'kerja', 'kondusif', 'instansi', 'produktivitasi', 'kerja', 'meningkat', 'tujuan', 'penelitian', 'pengaruh', 'pelatihan', 'pengembangan', 'produktivitas', 'kerja', 'dinas', 'kelautan', 'perikanan', 'bangkalan', 'mengukur', 'menganalisa', 'hubungan', 'variabel', 'peneliti', 'pendekatan', 'observasional', 'analitik', 'pengamatan', 'langsung', 'responden', 'penyebaran', 'kuisioner', 'dianalisis', 'penelitian', 'penelitian', 'populasi', 'responden', 'sampel', 'diolah', 'spss', 'versi', 'dianalisis', 'metode', 'statistik', 'metode', 'non', 'probality', 'sampling', 'simple', 'random', 'sampling', 'kesimpulan', 'penelitian', 'pelatihan', 'pengembangan', 'perbedaan', 'individu', 'pegawai', 'hubungan', 'analisis', 'jabatan', 'motivasi', 'partisipasi', 'aktif', 'seleksi', 'peserta', 'seleksi', 'instruktur', 'metode', 'pelatihan', 'pengembangan', 'pengaruh', 'simultan', 'produktivitas', 'kerja', 'pegawai', 'dinas', 'kelautan', 'perikanan', 'kabupaten', 'bangkalan', 'terbukti', 'nilai', 'koefisien', 'determinasi', 'berganda', 'r', 'square', 'fhitung', 'ftabel', 'faktor', 'hubungan', 'analisis', 'jabatan', 'berpengaruh', 'parsial', 'produktivitas', 'kerja', 'pegawai', 'dinas', 'kelautan', 'perikanan', 'kabupaten', 'bangkalan', 'pengujian', 'hipotesis', 'variabel', 'motivasi', 'terbukti', 'nilai', 'thitung', 'seleksi', 'peserta', 'pengaruh', 'dominan', 'produktivitas', 'kerja', 'pegawai', 'instansi', 'dinas', 'kelautan', 'perikanan', 'bangkalan', 'kunci', 'dinas', 'kelautan', 'perikanan', 'pelatihan', 'pengembangan', 'produktivitas', 'kerja'], ['diana', 'agustini', 'dewi', 'analisis', 'kinerja', 'keuangan', 'perusahaan', 'terdaftar', 'bei', 'akuisisi', 'studi', 'perusahaan', 'manufaktur', 'melakuukan', 'akuisisi', 'jurusan', 'ekonomi', 'manajemen', 'fakultas', 'ekonomi', 'universitas', 'trunojoyo', 'madura', 'penelitian', 'bertujuan', 'menganalisis', 'perbedaan', 'kinerja', 'keuangan', 'perusahaan', 'manufaktur', 'akuisisi', 'penelitian', 'perusahaan', 'manufaktur', 'terdaftar', 'bursa', 'efek', 'indonesia', 'populasi', 'penelitian', 'perusahaan', 'manufaktur', 'terdaftar', 'bursa', 'efek', 'indonesia', 'akuisisi', 'perusahaan', 'populasi', 'dipilih', 'sample', 'metode', 'purposive', 'sampling', 'didasarkan', 'kriteria', 'perusahaan', 'manufaktur', 'terdaftar', 'bei', 'tersedia', 'laporan', 'keuangan', 'aktivitas', 'akuisisi', 'akuisisi', 'perusahaan', 'pengambil', 'alih', 'asset', 'perusahaan', 'mengakuisisi', 'langsung', 'anak', 'perusahaan', 'berdasarkan', 'kriteria', 'diperoleh', 'perusahaan', 'sampel', 'penelitian', 'sampel', 'akuisisi', 'akuisisi', 'variabel', 'penelitian', 'kinerja', 'keuangan', 'perusahaan', 'diukur', 'alat', 'analisis', 'current', 'ratio', 'total', 'asset', 'turnover', 'debt', 'ratio', 'return', 'on', 'investmen', 'earning', 'rasio', 'dianalisisi', 'metode', 'analisis', 't', 'test'], ['abstrak', 'penelitian', 'metode', 'kuantitatif', 'menekankan', 'pengujian', 'hipotesis', 'variabel', 'penelitian', 'kepemimpinan', 'kompensasi', 'penelitian', 'dilaksanakan', 'kantor', 'dinas', 'pendidikan', 'kabupaten', 'sampang', 'sampel', 'orang', 'pegawai', 'negeri', 'sipil', 'non', 'pns', 'hipotesis', 'variabel', 'bebas', 'hubungan', 'signifikan', 'simultan', 'kepemimpinan', 'kompensasi', 'kinerja', 'pegawai', 'y', 'terbukti', 'nilai', 'fhitung', 'tingkat', 'nilai', 'hipotesis', 'variabel', 'kompensasi', 'variabel', 'pengaruh', 'dominan', 'terbukti', 'nilai', 't', 'hitung', 'pengaruh', 'positif', 'signifikan', 'parsial', 'variabel', 'bebas', 'variabel', 'terikat', 'y', 'kesimpulan', 'penelitian', 'pengujian', 'hipotesis', 'berdasarkan', 'pengujian', 'statistik', 'simultan', 'variabel', 'bebas', 'memiliki', 'pengaruh', 'signifikan', 'variabel', 'terikat', 'pengujian', 'hipotesis', 'membuktikan', 'variabel', 'kompensasi', 'variabel', 'berpengaruh', 'dominan', 'kinerja', 'pegawai', 'dinas', 'pendidikan', 'kabupaten', 'sampang', 'kunci', 'kepemimpinan', 'kompensasi', 'kinerja'], ['abstrak', 'penelitian', 'bertujuan', 'meneliti', 'pendidikan', 'pelatihan', 'berpengaruh', 'parsial', 'simultan', 'rangka', 'meningkatkan', 'produktivitas', 'karyawan', 'meniliti', 'variabel', 'pendidikan', 'berpengaruh', 'dominan', 'meningkatkan', 'produktivitas', 'karyawan', 'membuktikan', 'hipotesis', 'penelitian', 'alat', 'analisis', 'regresi', 'linier', 'berganda', 'bantuan', 'spss', 'hasil', 'pengujian', 'nilai', 'fhitung', 'nilai', 'signifikan', 'fhitung', 'p', 'pengaruh', 'signifikan', 'variabel', 'pendidikan', 'pelatihan', 'meningkatkan', 'produktivitas', 'karyawan', 'pt', 'pos', 'indonesia', 'persero', 'kantor', 'cabang', 'bangkalan', 'koefisien', 'determinasi', 'berganda', 'r', 'r', 'square', 'perubahan', 'variabel', 'produktivitas', 'karyawan', 'pt', 'pos', 'indonesia', 'persero', 'cabang', 'bangkalan', 'disebabkan', 'variabel', 'pendidikan', 'pelatihan', 'sisanya', 'disebabkan', 'variabel', 'masuk', 'model', 'hasil', 'penelitian', 'variabel', 'pendidikan', 'terbukti', 'kebenarannya', 'berpengaruh', 'dominan', 'nilai', 'beta'], ['abstrak', 'tujuan', 'penelitian', 'variabel', 'kompensasi', 'finansial', 'langsung', 'kompensasi', 'finansial', 'langsung', 'kompensasi', 'nonfinansial', 'simultan', 'memiliki', 'pengaruh', 'signifikan', 'kinerja', 'karyawan', 'variabel', 'manakah', 'kompensasi', 'finansial', 'langsung', 'kompensasi', 'finansial', 'langsung', 'kompensasi', 'nonfinansial', 'berpengaruh', 'dominan', 'kinerja', 'karyawan', 'membuktikan', 'hipotesis', 'penelitian', 'alat', 'analisis', 'regresi', 'linier', 'berganda', 'bantuan', 'spss', 'hasil', 'pengujian', 'nilai', 'fhitung', 'nilai', 'signifikan', 'fhitung', 'p', 'pengaruh', 'signifikan', 'variabel', 'kompensasi', 'finansial', 'langsung', 'kompensasi', 'finansial', 'langsung', 'kompensasi', 'nonfinansial', 'simultan', 'kinerja', 'karyawan', 'pt', 'pos', 'indonesia', 'persero', 'kantor', 'cabang', 'bangkalan', 'kunci', 'kompensasi', 'kinerja', 'karyawan'], ['abtrak', 'uswatun', 'khasanah', 'pengaruh', 'etos', 'kerja', 'presatasi', 'kerja', 'karyawan', 'persero', 'diatribusi', 'jawa', 'timur', 'area', 'mojokerto', 'pengumpulan', 'data', 'penelitian', 'mengunakan', 'survey', 'kuesioner', 'kuesioner', 'dibagikan', 'karyawan', 'pt', 'pln', 'persero', 'distribusi', 'jawa', 'timur', 'area', 'mojokerto', 'karyawan', 'teknik', 'analisis', 'data', 'meguji', 'hipotesis', 'regresi', 'linier', 'berganda', 'memakai', 'uji', 'f', 'uji', 'hasil', 'analisis', 'penelitian', 'simultan', 'uji', 'f', 'etos', 'kerja', 'semanagt', 'kerja', 'disiplin', 'kerja', 'kerja', 'pengaruh', 'signifikan', 'prestasi', 'kerja', 'karyawan', 'pt', 'pln', 'persero', 'distribusi', 'jawa', 'timur', 'area', 'mojokerto', 'parsial', 'uji', 't', 'variabel', 'kerja', 'semangat', 'kerja', 'berpengaruh', 'signifikan', 'variabel', 'disiplin', 'kerja', 'berpengaruh', 'signifikan', 'prestasi', 'kerja', 'karyawan', 'pt', 'pln', 'persero', 'distribusi', 'jawa', 'timur', 'area', 'mojokerto', 'variabel', 'etos', 'kerja', 'variabel', 'dominan', 'mempengaruhi', 'prestasi', 'kerja', 'karyawan', 'disimpulkan', 'meningkatkan', 'prestasi', 'kerja', 'karyawan', 'pt', 'pln', 'persero', 'distribusi', 'jawa', 'timur', 'area', 'mojokerto', 'meningkatkan', 'etos', 'kerja', 'kerja', 'semangat', 'kerja', 'kunci', 'etos', 'kerja', 'prestasi', 'kerja'], ['muhammad', 'sholeh', 'pengaruh', 'iklan', 'televisi', 'keputusan', 'konsumen', 'memakai', 'kartu', 'seluler', 'xl', 'kecamatan', 'geger', 'dibawah', 'bimbingan', 'bambang', 'setiyo', 'pambudi', 'mm', 'suyono', 'penelitian', 'bertujuan', 'pengaruh', 'iklan', 'keputusan', 'konsumen', 'kartu', 'seluler', 'xl', 'masyarakat', 'kecamatan', 'geger', 'kabupaten', 'bangkalan', 'responden', 'penelitian', 'responden', 'data', 'terkumpul', 'analisis', 'regresi', 'linier', 'berganda', 'alat', 'bantu', 'software', 'spss', 'hasil', 'analisis', 'pengujian', 'hipotesis', 'diperoleh', 'pengaruh', 'iklan', 'isi', 'pesan', 'struktur', 'pesan', 'format', 'pesan', 'sumber', 'pesan', 'pengaruh', 'signifikan', 'keputusan', 'konsumen', 'kartu', 'seluler', 'xl', 'uji', 'parsial', 'variabel', 'isi', 'pesan', 'variabel', 'dominan', 'pengaruh', 'keputusan', 'konsumen', 'kartu', 'seluler', 'xl', 'kecamatan', 'geger', 'keywords', 'isi', 'pesan', 'struktur', 'pesan', 'format', 'pesan', 'sumber', 'pesan'], ['tujuan', 'penelitian', 'pengaruh', 'celebrity', 'endorser', 'iwan', 'fals', 'minat', 'beli', 'produk', 'top', 'coffee', 'studi', 'masyarakat', 'sumur', 'kembang', 'kelurahan', 'pejagan', 'kecamatan', 'bangkalan', 'kabupaten', 'bangkalan', 'penelitian', 'metode', 'kuantitatif', 'pendekatan', 'survey', 'populasi', 'penelitian', 'masyarakat', 'sumur', 'kembang', 'kelurahan', 'pejagan', 'kecamatan', 'bangkalan', 'kabupaten', 'bangkalan', 'menngunakan', 'metode', 'sampling', 'aksidental', 'penelitian', 'responden', 'desember', 'metode', 'pengumpulan', 'data', 'penelitian', 'lapang', 'membagikan', 'kuesioner', 'riset', 'perpustakaan', 'teknik', 'pengolahan', 'data', 'pengolahan', 'data', 'bantuan', 'erangkat', 'lunak', 'spss', 'versi', 'for', 'windows', 'skala', 'likert', 'hasil', 'penelitian', 'hasil', 'uji', 'f', 'simultan', 'variabel', 'bebas', 'trustworthiness', 'expertise', 'attractiveness', 'respect', 'similarity', 'mempengaruhi', 'variabel', 'terikat', 'minet', 'beli', 'y', 'produk', 'top', 'coffee', 'hasil', 'uji', 't', 'parsial', 'membuktikan', 'variabel', 'bebas', 'trustworthiness', 'expertise', 'attractiveness', 'respect', 'similarity', 'berpengaruh', 'signifikan', 'minat', 'beli', 'y', 'produk', 'top', 'coffee', 'disimpulkan', 'variabel', 'bebas', 'pengaruh', 'miant', 'beli', 'y', 'produk', 'top', 'coffee', 'variabel', 'trustworthiness'], ['ali', 'rahbini', 'pengaruh', 'harga', 'kualitas', 'pelayanan', 'kepuasan', 'berbelanja', 'swalayan', 'tom', 'jerry', 'bangkalan', 'dibawah', 'bimbingan', 'pribanus', 'wantara', 'nirma', 'penelitian', 'bertujuan', 'mengukur', 'pengaruh', 'harga', 'kualitas', 'pelayanan', 'kepuasan', 'berbelanja', 'swalayan', 'tom', 'jerry', 'konsumen', 'berbelanja', 'swalayan', 'tom', 'jerry', 'responden', 'penelitian', 'responden', 'data', 'terkumpul', 'analisis', 'regresi', 'linier', 'berganda', 'alat', 'bantu', 'software', 'spss', 'hasil', 'analisis', 'pengujian', 'hipotesis', 'diperoleh', 'harga', 'kualitas', 'pelayanan', 'pengaruh', 'simultan', 'kepuasan', 'berbelanja', 'swalayan', 'tom', 'jerry', 'parsial', 'variabel', 'harga', 'kehandalan', 'daya', 'tanggap', 'jaminan', 'empati', 'bukti', 'fisik', 'pengaruh', 'parsial', 'kepuasan', 'berbelanja', 'swalayan', 'tom', 'jerry', 'bangkalan', 'variabel', 'harga', 'variabel', 'dominan', 'berpengaruh', 'kepuasan', 'berbelanja', 'swalayan', 'tom', 'jerry', 'bangkalan', 'kunci', 'harga', 'keandalan', 'daya', 'tanggap', 'jaminan', 'empati', 'bukti', 'fisik'], ['abstrak', 'tujuan', 'penelitian', 'pengaruh', 'variabel', 'current', 'ratio', 'return', 'on', 'equity', 'firm', 'size', 'leverage', 'business', 'risk', 'kebijakan', 'deviden', 'perusahaan', 'manufaktur', 'terdaftar', 'bursa', 'efek', 'indonesia', 'periode', 'pendekatan', 'penelitian', 'penelitian', 'kuantitatif', 'sampel', 'penelitian', 'perusahaan', 'manufaktur', 'membagikan', 'deviden', 'periode', 'metode', 'pengambilan', 'sampel', 'purposive', 'sampling', 'pengujian', 'instrumen', 'uji', 'asumsi', 'klasik', 'teknik', 'analisis', 'data', 'menguji', 'hipotesis', 'regresi', 'linier', 'berganda', 'memakai', 'uji', 'f', 'uji', 'berdasarkan', 'hasil', 'penelitian', 'nilai', 'r', 'square', 'berdasarkan', 'uji', 'f', 'variabel', 'current', 'ratio', 'return', 'on', 'equity', 'firm', 'size', 'leverage', 'businees', 'risk', 'simultan', 'berpengaruh', 'signifikan', 'dividend', 'payout', 'ratio', 'berdasarkan', 'uji', 't', 'parsial', 'variabel', 'current', 'ratio', 'firm', 'size', 'businees', 'risk', 'berpengaruh', 'signifikan', 'dividend', 'payout', 'ratio', 'variabel', 'return', 'on', 'equity', 'leverage', 'berpengaruh', 'signifikan', 'dividend', 'payout', 'ratio', 'kunci', 'current', 'ratio', 'return', 'on', 'equity', 'firm', 'size', 'leverage', 'businees', 'risk'], ['munculnya', 'asumsi', 'lahirnya', 'budaya', 'mengemis', 'disebabkan', 'budaya', 'berpengaruh', 'anak', 'memilih', 'profesi', 'pengemis', 'budaya', 'lingkungan', 'keluarga', 'budaya', 'mempengaruhi', 'sikap', 'periaku', 'disebabkan', 'kebiasaan', 'kehidupan', 'berdasarkan', 'hasil', 'penelitian', 'pengaruh', 'budaya', 'perilaku', 'pengemis', 'anak', 'kamal', 'kab', 'bangkalan', 'memprihatinkan', 'variabel', 'variabel', 'budaya', 'indikator', 'mengukur', 'budaya', 'etnografis', 'persepsi', 'pengemis', 'sosialisasi', 'peran', 'keluarga', 'lingkungan', 'menyebabkan', 'berprofesi', 'pengemis', 'modus', 'operandi', 'bentuk', 'pengemis', 'praktek', 'mengemis', 'jaringan', 'pengemis', 'desa', 'variable', 'perilaku', 'indicator', 'behavioral', 'sociology', 'menerangkan', 'tingkah', 'laku', 'akibatnya', 'teory', 'exchange', 'of', 'social', 'menerangkan', 'kekecewaan', 'kehidupan', 'manusia', 'bersumber', 'perilaku', 'berdasarkan', 'hasil', 'penelitian', 'perilaku', 'anak', 'menyebabkan', 'kekecewaan', 'adnya', 'faktor', 'dorongan', 'budaya', 'keluarga', 'lingkungan', 'kunci', 'perilaku', 'sosial', 'budaya'], ['bauran', 'eceran', 'salah', 'langkah', 'pemasaran', 'keberhasilan', 'perusahaan', 'bergerak', 'bidang', 'produksi', 'barang', 'swalayan', 'bangkalan', 'salah', 'bisnis', 'eceran', 'bergerak', 'jual', 'beli', 'barang', 'memperhatikan', 'perilaku', 'konsumen', 'mengambil', 'keputusan', 'variabel', 'bauran', 'eceran', 'teori', 'berman', 'evans', 'foster', 'lokasi', 'pelayanan', 'produk', 'harga', 'suasana', 'harga', 'promosi', 'tujuan', 'penelitian', 'pengaruh', 'bauran', 'eceran', 'lokasi', 'pelayanan', 'produk', 'harga', 'suasana', 'harga', 'promosi', 'simultan', 'keputusan', 'pembelian', 'konsumen', 'studi', 'indah', 'swalayan', 'bangkalan', 'variabel', 'bauran', 'eceran', 'berpengaruh', 'keputusan', 'pembelian', 'studi', 'indah', 'swalayan', 'bangkalan', 'penelitian', 'pendekatan', 'pendekatan', 'kuantitatif', 'teknik', 'pengambilan', 'sampel', 'purposive', 'sampling', 'pengumpulan', 'data', 'wawancara', 'kepustakaan', 'kuesioner', 'skala', 'likert', 'mengukur', 'menguji', 'instrumen', 'uji', 'validitas', 'uji', 'reliabilitas', 'uji', 'asumsi', 'teknik', 'analisis', 'data', 'analisis', 'regresi', 'linier', 'berganda', 'variabel', 'variabel', 'uji', 'f', 'uji', 'hasil', 'penelitian', 'variabel', 'bauran', 'eceran', 'lokasi', 'pelayanan', 'produk', 'harga', 'suasana', 'harga', 'promosi', 'berpengaruh', 'simultan', 'keputusan', 'pembelian', 'studi', 'indah', 'swalayan', 'bangkalan', 'variabel', 'bauran', 'eceran', 'berpengaruh', 'parsial', 'keputusan', 'pembelian', 'indah', 'swalayan', 'bangakalan', 'harga', 'berpengaruh', 'keputusan', 'pemebelian', 'indah', 'swalayan', 'bangkalan', 'kuci', 'bauran', 'eceran', 'lokasi', 'pelayanan', 'produk', 'harga', 'suasana', 'toko', 'karyawan', 'promosi', 'keputusan', 'pembelian'], ['abstrak', 'penelitian', 'bertujuan', 'pengaruh', 'stres', 'kerja', 'terhdap', 'disiplin', 'kerja', 'dosen', 'universitas', 'trunojoyo', 'madura', 'responden', 'penelitian', 'orang', 'dosen', 'data', 'terkumpul', 'analisis', 'regresi', 'linier', 'berganda', 'alat', 'bantu', 'software', 'spss', 'hasil', 'analisis', 'pengujian', 'hipotesis', 'diperoleh', 'pengaruh', 'stres', 'kerja', 'stressor', 'lingkungan', 'fisik', 'stressor', 'individu', 'stressor', 'kelompok', 'stressor', 'organisasi', 'pengaruh', 'disiplin', 'kerja', 'dosen', 'variabel', 'stressor', 'lingkungan', 'fisik', 'variabel', 'dominan', 'mempengaruhi', 'disiplin', 'kerja', 'dosen', 'universitas', 'trunojoyo', 'madura', 'katakunci', 'stressor', 'lingkungan', 'fisik', 'stressor', 'individu', 'stressor', 'kelompok', 'stressor', 'organisasi', 'disiplin', 'kerja'], ['abstrak', 'penelitian', 'bertujuan', 'mengukur', 'efektivitas', 'iklan', 'consumer', 'decision', 'model', 'cdm', 'mahasiswa', 'universitas', 'trunojoyo', 'madura', 'responden', 'penelitian', 'orang', 'mahasiswa', 'data', 'terkumpul', 'analisis', 'jalur', 'path', 'analysis', 'alat', 'bantu', 'software', 'spss', 'hasil', 'analisis', 'pengujian', 'hipotesis', 'diperoleh', 'pengaruh', 'langsung', 'pengaruh', 'langsung', 'signifikan', 'pengaruh', 'langsung', 'signifikan', 'pengaruh', 'langsung', 'pengaruh', 'langsung', 'signifikan', 'pengaruh', 'langsung', 'signifikan', 'kunci', 'cdm', 'analisis', 'jalur', 'pesan', 'iklan', 'pengenalan', 'merek', 'keyakinan', 'konsumen', 'sikap', 'konsumen', 'niat', 'beli', 'pembelian', 'nyata'], ['abstrak', 'tujuan', 'penelitian', 'mendeskripsikan', 'inovasi', 'keunggulan', 'bersaing', 'kinerja', 'pemasaran', 'diterapkannya', 'inovasi', 'keunggulan', 'bersaing', 'optik', 'reza', 'lamongan', 'penelitian', 'deskriptif', 'kualitatif', 'pendekatan', 'fenomenologi', 'teknik', 'pengumpulan', 'data', 'wawancara', 'observasi', 'penggunaan', 'dokumen', 'teknik', 'analisis', 'data', 'data', 'reduction', 'data', 'display', 'conclusion', 'drawing', 'verification', 'hasil', 'penelitian', 'perusahaan', 'optik', 'reza', 'lamongan', 'inovasi', 'keunggulan', 'bersaing', 'meningkatkan', 'kinerja', 'pemasaran', 'optik', 'reza', 'lamongan', 'menerapkan', 'inovasi', 'keunggulan', 'bersaing', 'volume', 'omzet', 'penjualan', 'meningkat', 'terbukti', 'mengalami', 'peningkatan', 'produk', 'ditawarkannya', 'mengalami', 'perbaikan', 'pangsa', 'pasarnya', 'meluas', 'daerah', 'jawa', 'timur', 'jawa', 'kunci', 'inovasi', 'keunggulan', 'bersaing', 'kinerja', 'pemasaran'], ['tujuan', 'penelitian', 'pengaruh', 'variabel', 'retailing', 'mix', 'lokasi', 'merchandise', 'harga', 'atmosfer', 'gerai', 'pelayanan', 'promosi', 'keputusan', 'pembelian', 'konsumen', 'variabel', 'retailimg', 'mix', 'berpengaruh', 'keputusan', 'pembelian', 'konsumen', 'idola', 'mart', 'kwanyar', 'pendekatan', 'penelitian', 'penelitian', 'kuantitatif', 'penelitian', 'berlandaskan', 'filsafat', 'positivisme', 'bertujuan', 'menguji', 'hipotesis', 'ditetapkan', 'sampel', 'penelitian', 'konsumen', 'pembelian', 'idola', 'mart', 'kwanyar', 'konsumen', 'metode', 'pengambilan', 'sampel', 'purposive', 'sampling', 'pengujian', 'instrumen', 'uji', 'validitas', 'reliabilitas', 'uji', 'asumsi', 'klasik', 'teknik', 'analisis', 'data', 'menguji', 'hipotesis', 'regresi', 'linier', 'berganda', 'memakai', 'uji', 'f', 'uji', 'berdasarkan', 'hasil', 'penelitian', 'nilai', 'adjusted', 'r', 'square', 'besarnya', 'pengaruh', 'variabel', 'bebas', 'variabel', 'terikat', 'sisanya', 'dipengaruhi', 'variabel', 'diteliti', 'penelitian', 'berdasarkan', 'uji', 'f', 'variabel', 'retailing', 'mix', 'lokasi', 'merchandise', 'harga', 'atmosfer', 'gerai', 'pelayanan', 'promosi', 'simultan', 'berpengaruh', 'signifikan', 'keputusan', 'pembelian', 'idola', 'mart', 'kwanyar', 'berdasarkan', 'uji', 't', 'parsial', 'variabel', 'lokasi', 'merchandise', 'harga', 'pelayanan', 'berpengaruh', 'signifikan', 'variabel', 'terikat', 'variabel', 'atmosfer', 'gerai', 'promosi', 'berpengaruh', 'variabel', 'terikat', 'variabel', 'berpengaruh', 'variabel', 'harga', 'kunci', 'retailing', 'mix', 'lokasi', 'merchandise', 'harga', 'atmosfer', 'gerai', 'pelayanan', 'promosi', 'keputusan', 'pembelian'], ['pln', 'badan', 'usaha', 'milik', 'negara', 'bergerak', 'bidang', 'penyediaan', 'listrik', 'nasional', 'pln', 'mengelola', 'bisnisnya', 'terbaik', 'mengoptimalisasikan', 'sumbr', 'daya', 'manusia', 'dimiliki', 'salah', 'proses', 'pengembangan', 'karir', 'tujuan', 'penelitian', 'pengaruh', 'signifikan', 'pengembangan', 'karir', 'semangat', 'kerja', 'karyawan', 'pln', 'cabang', 'bangkalan', 'parsial', 'simultan', 'bersifat', 'penelitian', 'populasi', 'populasi', 'penelitian', 'kuesioner', 'uji', 'validitas', 'uji', 'reliabilitas', 'teknik', 'analisis', 'data', 'analisis', 'regresi', 'linier', 'berganda', 'uji', 't', 'uji', 'f', 'koefisien', 'determinasi', 'hasil', 'penelitian', 'variabel', 'pengembangan', 'karir', 'prestasi', 'kerja', 'pengenalan', 'kesetiaan', 'orgnisasional', 'mentor', 'sponsor', 'kesempatan', 'tumbuh', 'memiliki', 'pengaruh', 'positif', 'semangat', 'kerja', 'karyawan', 'variabel', 'diatas', 'prestasi', 'kerja', 'variabel', 'memiliki', 'pengaruh', 'kuat', 'semangat', 'kerja', 'karyawan', 'pln', 'cabang', 'bangkalan', 'kunci', 'pengembangan', 'karir', 'semangat', 'kerja', 'karyawan', 'pln'], ['abstrak', 'penelitian', 'rumusan', 'pelaporan', 'biaya', 'kualitas', 'meminimalkan', 'risiko', 'produk', 'cacat', 'cv', 'kapuas', 'inti', 'sarana', 'pengaruh', 'pelaporan', 'biaya', 'kualitas', 'tingkat', 'profitabilitas', 'cv', 'kapuas', 'inti', 'sarana', 'penelitian', 'bertujuan', 'pengaruh', 'pelaporan', 'biaya', 'kualitas', 'risiko', 'produk', 'cacat', 'tingkat', 'profitabilitas', 'perusahaan', 'penelitian', 'metode', 'deskriptif', 'menggambarkan', 'fenomena', 'mendeskripsikan', 'variabel', 'berasal', 'data', 'hasil', 'penelitian', 'pelaporan', 'biaya', 'kualitas', 'periodik', 'terperinci', 'berpengaruh', 'peningkatan', 'profitabilitas', 'perusahaan', 'pelaporan', 'biaya', 'kualitas', 'terperinci', 'mengurangi', 'risiko', 'produk', 'cacat', 'produk', 'cacat', 'berkurang', 'berpengaruh', 'peningkatan', 'penjualan', 'langsung', 'berpengaruh', 'meningkatnya', 'profitabilitas', 'perusahaan', 'kunci', 'risiko', 'produk', 'cacat', 'biaya', 'kualitas', 'profitabilitas'], ['tujuan', 'penelitian', 'mengidentifikasi', 'mempengaruhi', 'minat', 'ulang', 'nasabah', 'bri', 'layanan', 'internet', 'banking', 'bri', 'parsial', 'simultan', 'penelitian', 'metode', 'kuantitatif', 'dimana', 'populasi', 'penelitian', 'nasabah', 'bri', 'kota', 'bangkalan', 'layanan', 'internet', 'banking', 'bri', 'diperoleh', 'sampel', 'responden', 'diambil', 'teknik', 'purposive', 'sampling', 'teknik', 'analisis', 'regresi', 'linier', 'berganda', 'hasil', 'penelitian', 'simultan', 'pengaruh', 'signifikan', 'variabel', 'bebas', 'persepsi', 'manfaat', 'persepsi', 'kemudahan', 'keamanan', 'ketersediaan', 'fitur', 'minat', 'ulang', 'internet', 'banking', 'parsial', 'variabel', 'bebas', 'berpengaruh', 'positif', 'signifikan', 'minat', 'ulang', 'layanan', 'internet', 'banking', 'kecuali', 'variabel', 'persepsi', 'kemudahan', 'kecuali', 'variabel', 'persepsi', 'kemudahan', 'kunci', 'persepsi', 'manfaat', 'persepsi', 'kemudahan', 'keamanan', 'ketersediaan', 'fitur', 'minat', 'ulang', 'internet', 'banking'], ['abstrak', 'haryono', 'arifin', 'pengaruh', 'perilaku', 'konsumen', 'keputusan', 'pembelian', 'produk', 'honda', 'merek', 'vario', 'studi', 'dealler', 'surya', 'agung', 'motor', 'bangkalan', 'tujuan', 'penelitian', 'pengaruh', 'perilaku', 'konsumen', 'keputusan', 'pembelian', 'honda', 'merek', 'vario', 'dealer', 'surya', 'agung', 'motor', 'bangkalan', 'variabel', 'manakah', 'perilaku', 'konsumen', 'kebudayaan', 'sosial', 'pribadi', 'psikologis', 'dominan', 'keputusan', 'pembelian', 'konsumen', 'honda', 'merek', 'vario', 'penelitian', 'pendekatan', 'kuantitatif', 'pengamatan', 'langsung', 'responden', 'penyebaran', 'kuesioner', 'dianalisa', 'penelitian', 'penelitian', 'populasi', 'responden', 'konsumen', 'pembelian', 'honda', 'merek', 'vario', 'dealer', 'surya', 'agung', 'motor', 'bangkalan', 'dijadikan', 'responden', 'dianalisis', 'spss', 'versi', 'kesimpulan', 'penelitian', 'pengujian', 'hipotesis', 'variabel', 'perilaku', 'konsumen', 'kebudayaan', 'sosial', 'pribadi', 'psikologis', 'berpengaruh', 'simultan', 'keputusan', 'pembelian', 'honda', 'merek', 'vario', 'pengujian', 'hipotesis', 'variabel', 'psikologis', 'variabel', 'berpengaruh', 'dominan', 'kunci', 'kebudayaan', 'sosial', 'pribadi', 'psikologis', 'keputusan', 'pembelian'], ['abstrak', 'dharma', 'abidin', 'syah', 'kesimpulan', 'pengaruh', 'signifikan', 'variabel', 'tipe', 'kepemimpinan', 'autoritarian', 'demokratis', 'simultan', 'variabel', 'prestasi', 'kerja', 'pegawai', 'kantor', 'kecamatan', 'pangarengan', 'kabupaten', 'sampang', 'hasil', 'uji', 'f', 'anova', 'menunjukan', 'nilai', 'fhitung', 'ftabel', 'variabel', 'tipe', 'kepemimpinan', 'autoritarian', 'demokratis', 'simultan', 'kontribusi', 'prestasi', 'kerja', 'pegawai', 'pengaruh', 'signifikan', 'variabel', 'kepemimpinan', 'tipe', 'autoritariansecara', 'parsial', 'prestasi', 'kerja', 'pegawaidikantor', 'kecamatan', 'pangarengan', 'kabupaten', 'sampang', 'hasil', 'uji', 't', 'menunjukan', 'nilai', 't', 'hitung', 't', 'tabel', 'parsial', 'variabel', 'kepemimpinan', 'tipe', 'autoritarian', 'kontribusi', 'variabel', 'prestasi', 'kerja', 'pegawai', 'pengaruh', 'signifikan', 'variabel', 'kepemimpinan', 'tipe', 'parsial', 'prestasi', 'kerja', 'pegawaidikantor', 'kecamatan', 'pangarengan', 'kabupaten', 'sampang', 'hasil', 'uji', 't', 'menunjukan', 'nilai', 't', 'hitung', 't', 'tabel', 'parsial', 'variabel', 'kepemimpinan', 'tipe', 'kontribusi', 'variabel', 'prestasi', 'kerja', 'pegawai', 'pengaruh', 'signifikan', 'variabel', 'kepemimpinan', 'tipe', 'demokratis', 'parsial', 'prestasi', 'kerja', 'pegawaidikantor', 'kecamatan', 'pangarengan', 'kabupaten', 'sampang', 'hasil', 'uji', 't', 'menunjukan', 'nilai', 't', 'hitung', 't', 'tabel', 'parsial', 'variabel', 'kepemimpinan', 'tipe', 'demokratis', 'kontribusi', 'variabel', 'prestasi', 'kerja', 'pegawai', 'variabel', 'tipe', 'demokratis', 'nilai', 'koefisien', 'determinasi', 'variabel', 'bebas', 'lainya', 'variabel', 'dominan', 'berpengaruh', 'variabel', 'prestasi', 'kerja', 'pegawai', 'dikantor', 'kecamatan', 'pangarengan', 'kabupaten', 'sampang', 'kunci', 'tipe', 'kepemimpinan', 'prestasi', 'kerja', 'pegawai'], ['abstrak', 'aththaariq', 'pengaruh', 'kompetensi', 'dosen', 'kinerja', 'dosen', 'universitas', 'trunojoyo', 'madura', 'dibawah', 'bimbingan', 'moch', 'wispandono', 'muhammad', 'alkirom', 'wildan', 'penelitian', 'bertujuan', 'menganalisis', 'pengaruh', 'kompetensi', 'pedagogik', 'kompetensi', 'profesional', 'kompetensi', 'sosial', 'kompetensi', 'kepribadian', 'variabel', 'terikat', 'kinerja', 'dosen', 'universitas', 'trunojoyo', 'madura', 'data', 'penelitian', 'data', 'primer', 'data', 'diperoleh', 'hasil', 'penyebaran', 'kuesioner', 'responden', 'penelitian', 'dosen', 'universitas', 'trunojoyo', 'madura', 'tersertifikasi', 'aktif', 'dosen', 'teknik', 'pengambilan', 'sampel', 'judgmental', 'sampling', 'metode', 'analisis', 'regresi', 'linier', 'berganda', 'hasil', 'penelitian', 'berdasarkan', 'hasil', 'analisis', 'disimpulkan', 'kompetensi', 'pedagogik', 'kompetensi', 'profesional', 'kompetensi', 'sosial', 'kompetensi', 'kepribadian', 'berpengaruh', 'signifikan', 'variabel', 'terikat', 'kinerja', 'dosen', 'y', 'simultan', 'parsial', 'nilai', 'koefisiensi', 'determinasi', 'berganda', 'nilai', 'kinerja', 'dosen', 'dipengaruhi', 'perubahan', 'variabel', 'bebas', 'diteliti', 'sisanya', 'dipengaruhi', 'variabel', 'diteliti', 'variabel', 'memiliki', 'pengaruh', 'dominan', 'variabel', 'kompetensi', 'pedagogik', 'nilai', 'signifikansi', 'memiliki', 'nilai', 'beta', 'kunci', 'kompetensi', 'pedagogik', 'kompetensi', 'profesional', 'kompetensi', 'sosial', 'kompetensi', 'kepribadian', 'kinerja', 'dosen'], ['abstrak', 'tujuan', 'penelitian', 'mengidentifikasi', 'mempengaruhi', 'kepuasan', 'konsumen', 'simultan', 'parsial', 'metode', 'metode', 'kuantitatif', 'populasi', 'konsumen', 'depot', 'barokah', 'prambon', 'pelayanan', 'depot', 'barokah', 'prambon', 'sampel', 'responden', 'teknik', 'accidental', 'sampling', 'teknik', 'analisis', 'analisis', 'regresi', 'linier', 'berganda', 'hasil', 'penelitian', 'variabel', 'independen', 'variabel', 'bukti', 'fisik', 'kehandalan', 'jaminan', 'parsial', 'berpengaruh', 'signifikan', 'kepuasan', 'konsumen', 'y', 'variabel', 'independen', 'daya', 'tanggap', 'empati', 'berpengaruh', 'signifikan', 'variabel', 'dependen', 'kepuasan', 'konsumen', 'y', 'variabel', 'jaminan', 'pengaruh', 'kepuasan', 'konsumen', 'y', 'simultan', 'variabel', 'independen', 'kualitas', 'pelayanan', 'x', 'simultan', 'berpengaruh', 'signifikan', 'variabel', 'dependen', 'kepuasan', 'konsumen', 'y', 'kunci', 'kualitas', 'pelayanan', 'bukti', 'fisik', 'kehandalan', 'daya', 'tanggap', 'jaminan', 'empati', 'kepuasan', 'konsumen'], ['hasil', 'penelitian', 'perhitungan', 'credit', 'risk', 'ratio', 'menunjukan', 'npl', 'pd', 'bpr', 'bank', 'daerah', 'lamongan', 'mengalami', 'penurunan', 'tingkat', 'resiko', 'kesimpulan', 'penelitian', 'tingkat', 'resiko', 'pd', 'bpr', 'bank', 'daerah', 'lamongan', 'mengalami', 'penurunan', 'tingkat', 'resiko', 'npl', 'dikatagorikan', 'berdasarkan', 'ketentuan', 'bank', 'indonesia', 'syarat', 'npl', 'maksimal', 'kunci', 'credit', 'risk', 'ratio', 'non', 'performing', 'loan'], ['keputusan', 'investasi', 'berhubungan', 'keuntungan', 'risiko', 'investor', 'rasional', 'menginvestasikan', 'dananya', 'saham', 'efisien', 'saham', 'return', 'risiko', 'minimal', 'sampel', 'penelitian', 'saham', 'aktif', 'berdasarkan', 'frekuensi', 'perdagangan', 'membagi', 'dividen', 'tujuan', 'penelitian', 'membentuk', 'portofolio', 'optimal', 'perbedaan', 'return', 'risiko', 'saham', 'kandidat', 'non', 'kandidat', 'portofolio', 'hasil', 'penelitian', 'saham', 'kandidat', 'portofolio', 'saham', 'diteliti', 'nilai', 'portofolio', 'optimal', 'dibentuk', 'saham', 'excess', 'returns', 'to', 'beta', 'erb', 'ci', 'diperoleh', 'saham', 'masuk', 'perhitungan', 'portofolio', 'optimal', 'komposisi', 'proporsi', 'dana', 'saham', 'pt', 'adaro', 'energy', 'tbk', 'pt', 'gudang', 'garam', 'tbk', 'pt', 'hm', 'sampoerna', 'tbk', 'pt', 'astra', 'otopart', 'tbk', 'pt', 'multi', 'bintang', 'indonesia', 'tbk', 'pt', 'astra', 'agro', 'lestari', 'tbk', 'pt', 'goodyear', 'indonesia', 'tbk', 'pt', 'indika', 'energy', 'tbk', 'pt', 'united', 'tractors', 'tbk', 'pt', 'pabrik', 'kertas', 'tjiwi', 'kimia', 'tbk', 'pt', 'indofood', 'sukses', 'makmur', 'tbk', 'pt', 'astra', 'international', 'tbk', 'pt', 'bank', 'negara', 'indonesia', 'tbk', 'return', 'portofolio', 'risiko', 'portofolio', 'excess', 'return', 'to', 'beta', 'portofolio', 'berdasarkan', 'hasil', 'diatas', 'disimpulkan', 'metode', 'indeks', 'tunggal', 'portofolio', 'optimal', 'diperoleh', 'perhitungan', 'aktiva', 'bebas', 'risiko', 'kunci', 'model', 'indeks', 'tunggal', 'portofolio', 'optimal', 'expected', 'return', 'excess', 'return', 'to', 'beta'], ['penelitian', 'bertujuan', 'pengaruh', 'rekrutmen', 'pengembangan', 'karir', 'terhdap', 'kinerja', 'karyawan', 'kantor', 'pusat', 'pt', 'gresik', 'cipta', 'sejahtera', 'kabupaten', 'gresik', 'responden', 'penelitian', 'orang', 'karyawan', 'data', 'terkumpul', 'analisis', 'regresi', 'linier', 'berganda', 'alat', 'bantu', 'software', 'spss', 'hasil', 'analisis', 'pengujian', 'hipotesis', 'diperoleh', 'variabel', 'rekrutmen', 'variabel', 'pengembangan', 'karir', 'pengaruh', 'simultan', 'kinerja', 'karyawan', 'variabel', 'rekrutmen', 'variabel', 'dominan', 'mempengaruhi', 'kinerja', 'karyawan', 'kantor', 'pusat', 'pt', 'gresik', 'cipta', 'sejahtera', 'kabupaten', 'gresik', 'katakunci', 'rekrutmen', 'pengembangan', 'karir', 'kinerja'], ['abstrak', 'hening', 'ary', 'putra', 'pengaruh', 'iklan', 'online', 'media', 'facebook', 'keputusan', 'pembelian', 'pakaian', 'studi', 'mahasiswa', 'fakultas', 'ekonomi', 'bisnis', 'universitas', 'trunojoyo', 'madura', 'pemimbing', 'bambang', 'setiyo', 'pambudi', 'suyono', 'tujuan', 'penelitian', 'mengidentifikasi', 'variabel', 'sikap', 'iklan', 'online', 'daya', 'iklan', 'online', 'frekuensi', 'klik', 'iklan', 'online', 'mempengaruhi', 'keputusan', 'pembelian', 'pakaian', 'mahasiswa', 'fakultas', 'ekonomi', 'bisnis', 'universitas', 'trunojoyo', 'madura', 'simultan', 'parsial', 'hipotesis', 'penelitian', 'mempengaruhi', 'keputusan', 'pembelian', 'pakaian', 'sikap', 'iklan', 'online', 'daya', 'iklan', 'online', 'frekuensi', 'klik', 'iklan', 'online', 'berpengaruh', 'signifikan', 'keputusan', 'pembelian', 'pakaian', 'simultan', 'parsial', 'penelitian', 'metode', 'kuantitatif', 'dimana', 'populasi', 'penelitian', 'mahasiswa', 'fakultas', 'ekonomi', 'bisnis', 'universitas', 'trunojoyo', 'madura', 'diperoleh', 'sampel', 'responden', 'diambil', 'metode', 'accidental', 'sampling', 'menyebarkan', 'kuesioner', 'kesimpulan', 'penelitian', 'simultan', 'pengaruh', 'signifikan', 'variabel', 'bebas', 'sikap', 'iklan', 'online', 'daya', 'iklan', 'online', 'frekuensi', 'klik', 'iklan', 'online', 'keputusan', 'pembelian', 'pakaian', 'parsial', 'vairabel', 'sikap', 'iklan', 'online', 'daya', 'iklan', 'online', 'berpengaruh', 'positif', 'signifikan', 'keputusan', 'pembelian', 'pakaian', 'kecuali', 'variabel', 'frekuensi', 'klik', 'iklan', 'online', 'berpengaruh', 'positif', 'signifikan', 'keputusan', 'pembelian', 'pakaian', 'parsial', 'variabel', 'daya', 'pengaruh', 'keputusan', 'pembelian', 'pakaian', 'kunci', 'sikap', 'daya', 'frekuensi', 'klik', 'keputusan', 'pembelian', 'pakaian'], ['tujuan', 'penelitian', 'tingkat', 'kebangkrutan', 'perusahaan', 'makanan', 'minuman', 'terdaftar', 'bursa', 'efek', 'indonesia', 'penelitian', 'perusahaan', 'kondisi', 'bangkrut', 'analisis', 'altman', 'memperoleh', 'peringatan', 'kebangkrutan', 'metode', 'penelitian', 'penelitian', 'metode', 'diskriptif', 'peneliti', 'mengambil', 'perusahaan', 'makanan', 'minuman', 'terdaftar', 'bursa', 'efek', 'indonesia', 'periode', 'perusahaan', 'dijadikan', 'populasi', 'penelitian', 'penelitian', 'teknik', 'purposive', 'sampling', 'menghasilkan', 'perusahaan', 'sampel', 'penelitian', 'hasil', 'penelitian', 'analisis', 'altman', 'perusahaan', 'makanan', 'minuman', 'terdaftar', 'bursa', 'efek', 'indonesia', 'perusahaan', 'bangkrut', 'perusahaan', 'kritis', 'perusahaan', 'sehat', 'perusahaan', 'bangkrut', 'perusahaan', 'kritis', 'perusahaan', 'sehat', 'perusahaan', 'bangkrut', 'perusahaan', 'kritis', 'perusahaan', 'sehat', 'perusahaan', 'bangkrut', 'perusahaan', 'kritis', 'perusahaan', 'sehat', 'perusahaan', 'perusahaan', 'kritis', 'perusahaan', 'sehat', 'kunci', 'kebangkrutan', 'analisis', 'altman'], ['intention', 'of', 'this', 'research', 'is', 'to', 'know', 'influence', 'of', 'location', 'of', 'is', 'effort', 'and', 'service', 'quality', 'decision', 'of', 'purchasing', 'y', 'and', 'also', 'to', 'know', 'variable', 'having', 'bigger', 'ppengaruh', 'at', 'decision', 'of', 'purchasing', 'at', 'home', 'eat', 'depot', 'of', 'soto', 'glorious', 'asih', 'of', 'lamongan', 'this', 'research', 'use', 'quantitative', 'method', 'with', 'approach', 'of', 'survey', 'this', 'research', 'population', 'is', 'consumer', 'purchasing', 'at', 'home', 'eat', 'depot', 'of', 'soto', 'glorious', 'asih', 'of', 'lamongan', 'method', 'the', 'used', 'is', 'method', 'of', 'accidental', 'sampling', 'hence', 'this', 'research', 'get', 'responder', 'method', 'data', 'collecting', 'research', 'into', 'library', 'result', 'of', 'this', 'research', 'mention', 'location', 'of', 'is', 'effort', 'and', 'service', 'quality', 'influence', 'variable', 'tied', 'that', 'is', 'decision', 'of', 'purchasing', 'y', 'while', 'result', 'of', 'from', 'test', 'of', 't', 'parsial', 'prove', 'that', 'free', 'variable', 'consisting', 'of', 'location', 'of', 'is', 'effort', 'and', 'service', 'quality', 'by', 'simultan', 'or', 'together', 'influence', 'variable', 'decision', 'of', 'purchasing', 'y', 'of', 'this', 'parsial', 'research', 'can', 'be', 'concluded', 'that', 'from', 'both', 'free', 'variable', 'a', 'location', 'of', 'is', 'effort', 'which', 'have', 'bigger', 'influence', 'to', 'decision', 'of', 'purchasing', 'y', 'is', 'the', 'quality', 'of', 'service', 'keywords', 'business', 'location', 'quality', 'of', 'service', 'purchase', 'decision'], ['objek', 'penelitian', 'pembelian', 'produk', 'xl', 'kecamatan', 'bangkalan', 'sampel', 'konsumen', 'teknik', 'analisis', 'data', 'meguji', 'hipotesis', 'regresi', 'linier', 'berganda', 'memakai', 'uji', 'f', 'uji', 'berdasar', 'hasil', 'penelitian', 'model', 'regresi', 'linier', 'berganda', 'sistematis', 'hasil', 'analisis', 'penelitian', 'simultan', 'uji', 'f', 'bauran', 'pemasaran', 'produk', 'harga', 'promosi', 'distribusi', 'pengaruh', 'signifikan', 'keputusan', 'pembelian', 'produk', 'xl', 'kecamatan', 'parsial', 'uji', 't', 'variabel', 'promosi', 'distribusi', 'berpengaruh', 'signifikan', 'variabel', 'produk', 'harga', 'berpengaruh', 'signifikan', 'keputusan', 'pembelian', 'produk', 'xl', 'kecamatan', 'bangkalan', 'variabel', 'distribusi', 'berpengaruh', 'keputusan', 'pembelian', 'disimpulkan', 'meningkatkan', 'keputusan', 'pembelian', 'produk', 'xl', 'kecamatan', 'bangkalan', 'meningkatkan', 'strategi', 'bauran', 'pemasaran', 'segi', 'promosi', 'distribusi'], ['kenaikan', 'harga', 'menyebabkan', 'permintaan', 'pembelian', 'saham', 'mengalami', 'penurunan', 'menyebabkan', 'harga', 'saham', 'menghindari', 'kondisi', 'perusahaan', 'menurunkan', 'harga', 'saham', 'kisaran', 'harga', 'menarik', 'minat', 'investor', 'membeli', 'pemecahan', 'saham', 'stock', 'split', 'dasarnya', 'penelitian', 'stock', 'split', 'permasalahan', 'penelitian', 'hasil', 'penelitian', 'penelitian', 'penelitian', 'perusahaan', 'terdaftar', 'bei', 'pemecahan', 'saham', 'penelitian', 'analisis', 'uji', 'paired', 'sample', 'test', 'periode', 'pengamatan', 't', 'stock', 'split', 't', 'stock', 'split', 'metode', 'penetuan', 'sampel', 'purposive', 'sampling', 'berdasarkan', 'hasil', 'penelitian', 'hipotesis', 'perbedaan', 'return', 'saham', 'pemecahan', 'saham', 'hipotesis', 'perbedaan', 'tva', 'pemecahan', 'saham', 'harga', 'saham', 'volume', 'perdagangan', 'saham', 'meningkat', 'kunci', 'stock', 'split', 'pergerakan', 'harga', 'saham', 'volume', 'perdagangan', 'saham', 'tva'], ['habibah', 'pengaruh', 'ekuitas', 'merek', 'keputusan', 'pembelian', 'notebook', 'acer', 'dibawah', 'bimbingan', 'bambang', 'setiyo', 'pambudi', 'mm', 'suyono', 'notebook', 'merek', 'acer', 'notebook', 'ekuitas', 'merek', 'dibuktikan', 'penguasaan', 'acer', 'hamper', 'pasar', 'notebook', 'indonesia', 'dasar', 'kenyataan', 'pasar', 'penelitian', 'tujuan', 'ekuitas', 'merek', 'persepsi', 'konsumen', 'lokasi', 'penelitiannya', 'dilaksanakan', 'fakultas', 'ekonomi', 'universitas', 'trunojoyo', 'madura', 'penelitan', 'penelitan', 'kuantitatif', 'pendekatan', 'survey', 'sampel', 'konsumen', 'penelitian', 'variabel', 'bebasnya', 'kesadaran', 'merek', 'asosiasi', 'merek', 'persepsi', 'kualitas', 'loyalitas', 'merek', 'persepsi', 'nilai', 'variabel', 'terikatnya', 'keputusan', 'pembelian', 'konsumen', 'metode', 'penelitian', 'sampel', 'purposive', 'sampling', 'pengujian', 'instrument', 'uji', 'validitas', 'realibilitas', 'uji', 'asumsi', 'klasik', 'metode', 'analisis', 'data', 'menguji', 'hipotesis', 'regresi', 'linier', 'berganda', 'memakai', 'uji', 'f', 'uji', 'hasil', 'penelitan', 'variabel', 'nilai', 'adjusted', 'r', 'square', 'besarnya', 'pengaruh', 'variabel', 'bebas', 'variabel', 'terikat', 'sisanya', 'dipengaruhi', 'variabel', 'diteliti', 'penelitian', 'berdasarkan', 'uji', 'f', 'variabel', 'ekuitas', 'merek', 'kesadaran', 'merek', 'asosiasi', 'merek', 'persepsi', 'kualitas', 'loyalitas', 'merek', 'persepsi', 'nilai', 'simultan', 'berpengaruh', 'signifikan', 'keputusan', 'pembelian', 'mahasiswa', 'fakultas', 'ekonomi', 'universitas', 'trunojoyo', 'madura', 'berdasarkan', 'uji', 't', 'parsial', 'kesadaran', 'merek', 'asosiasi', 'merek', 'persepsi', 'kualitas', 'loyalitas', 'merek', 'persepsi', 'nilai', 'berpengaruh', 'signifikan', 'variabel', 'terikat', 'variabel', 'persepsi', 'nilai', 'berpengaruh', 'variabel', 'terikat', 'variabel', 'berpengaruh', 'dominan', 'persepsi', 'kualitas', 'kunci', 'ekuitas', 'merek', 'keputusan', 'pembelian'], ['pengaruh', 'bundling', 'strategy', 'keputusan', 'pembelian', 'restoran', 'quick', 'chicken', 'cabang', 'raya', 'dukuh', 'kupang', 'pribanus', 'wantara', 'yustina', 'chrismardani', 'tujuan', 'penelitian', 'pengaruh', 'bundling', 'strategy', 'focus', 'bundling', 'form', 'bundling', 'keputusan', 'pembelian', 'y', 'variabel', 'manakah', 'pengaruh', 'bundling', 'strategy', 'produk', 'makanan', 'cepat', 'saji', 'restoran', 'quick', 'chicken', 'cabang', 'raya', 'dukuh', 'kupang', 'surabaya', 'populasi', 'penelitian', 'konsumen', 'membeli', 'makanan', 'cepat', 'saji', 'bentuk', 'bundling', 'paketan', 'restoran', 'quick', 'chicken', 'cabang', 'raya', 'dukuh', 'kupang', 'penelitian', 'metode', 'accidental', 'sampling', 'responden', 'responden', 'penelitian', 'desember', 'metode', 'pengumpulan', 'data', 'penelitian', 'lapang', 'mebagikan', 'kuesioner', 'riset', 'perpustakaan', 'teknik', 'pengolahan', 'data', 'mengunakan', 'bantuan', 'perangkat', 'lunak', 'spss', 'versi', 'for', 'windows', 'skala', 'likert', 'hasil', 'penelitian', 'hasil', 'uji', 'f', 'simultan', 'menunjukan', 'variabel', 'bebas', 'focus', 'bundling', 'form', 'bundling', 'mempengaruhi', 'variabel', 'terikat', 'keputusan', 'pembelian', 'y', 'produk', 'makanan', 'cepat', 'saji', 'bentuk', 'paketan', 'restoran', 'quick', 'chicken', 'cabang', 'raya', 'dukuh', 'kupang', 'surabaya', 'hasil', 'uji', 't', 'parsial', 'membuktikan', 'variabel', 'bebas', 'focus', 'bundling', 'form', 'bundling', 'berpengaruh', 'signifikan', 'keputusan', 'pembelian', 'y', 'produk', 'makanan', 'cepat', 'saji', 'bentuk', 'paketan', 'restoran', 'quick', 'chicken', 'cabang', 'raya', 'dukuh', 'kupang', 'surabaya', 'disimpulkan', 'variabel', 'bebas', 'pengaruh', 'keputusan', 'pembelian', 'y', 'produk', 'makanan', 'cepat', 'saji', 'bentuk', 'paketan', 'restoran', 'quick', 'chicken', 'cabang', 'raya', 'dukuh', 'kupang', 'surabaya', 'focus', 'bundling', 'kunci', 'bundling', 'strategy', 'keputusan', 'pembelian'], ['abstrak', 'tujuan', 'penelitian', 'harga', 'kualitas', 'produk', 'berpengaruh', 'simultan', 'keputusan', 'pembelian', 'deterjen', 'rinso', 'anti', 'noda', 'harga', 'kualitas', 'produk', 'berpengaruh', 'parsial', 'keputusan', 'pembelian', 'deterjen', 'rinso', 'anti', 'noda', 'variabel', 'berpengaruh', 'dominan', 'keputusan', 'pembelian', 'deterjen', 'rinso', 'anti', 'noda', 'berdasarkan', 'hasil', 'penelitian', 'nilai', 'adjusted', 'r', 'square', 'besarnya', 'pengaruh', 'variabel', 'bebas', 'variabel', 'terikat', 'sisanya', 'dipengaruhi', 'variabel', 'diteliti', 'penelitian', 'berdasarkan', 'uji', 'f', 'harga', 'kualitas', 'produk', 'simultan', 'berpengaruh', 'signifikan', 'keputusan', 'pembelian', 'deterjen', 'rinso', 'anti', 'noda', 'studi', 'mahasiswa', 'universitas', 'trunojoyo', 'madura', 'berdomisili', 'desa', 'telang', 'bangkalan', 'berdasarkan', 'uji', 't', 'parsial', 'variabel', 'harga', 'kualitas', 'produk', 'berpengaruh', 'signifikan', 'variabel', 'terikat', 'variabel', 'berpengaruh', 'dominan', 'variabel', 'harga', 'kunci', 'harga', 'kualitas', 'produk', 'keputusan', 'pembelian'], ['atribut', 'produk', 'pandangan', 'gambaran', 'produk', 'dealer', 'surya', 'agung', 'motor', 'bangkalan', 'salah', 'dealer', 'resmi', 'honda', 'bergerak', 'penjualan', 'sepeda', 'motor', 'memperhatikan', 'perilaku', 'konsumen', 'mengambil', 'keputusan', 'pembelian', 'atribut', 'produk', 'teori', 'kotler', 'armstrong', 'kualitas', 'produk', 'fitur', 'produk', 'gaya', 'desain', 'produk', 'tujuan', 'penelitian', 'mengidentifikasi', 'mempengaruhi', 'atribut', 'produk', 'memutuskan', 'membeli', 'sepeda', 'motor', 'honda', 'supra', 'parsial', 'simultan', 'penelitian', 'metode', 'kuantitatif', 'dimana', 'populasi', 'penelitian', 'konsumen', 'sepeda', 'motor', 'honda', 'supra', 'x', 'dealer', 'surya', 'agung', 'motor', 'bangkalan', 'diperoleh', 'sampel', 'responden', 'diambil', 'metode', 'purposive', 'sampling', 'menyebarkan', 'kuesioner', 'hipotesis', 'penelitian', 'atribut', 'produk', 'mempengaruhi', 'keputusan', 'pembelian', 'kualitas', 'produk', 'fitur', 'produk', 'gaya', 'desain', 'produk', 'berpengaruh', 'signifikan', 'keputusan', 'pembelian', 'sepeda', 'motor', 'honda', 'supra', 'x', 'simultan', 'parsial', 'hasil', 'penelitian', 'uji', 'f', 'variabel', 'bebas', 'atribut', 'produk', 'kualitas', 'produk', 'fitur', 'produk', 'gaya', 'desain', 'produk', 'berpengaruh', 'simultan', 'keputusan', 'pembelian', 'sepeda', 'motor', 'honda', 'supra', 'x', 'studi', 'dealer', 'surya', 'agung', 'motor', 'bangkalan', 'uji', 't', 'parsial', 'variabel', 'kualitas', 'produk', 'fitur', 'produk', 'gaya', 'desain', 'produk', 'keputusan', 'pembelian', 'sepeda', 'motor', 'honda', 'supra', 'x', 'studi', 'dealer', 'surya', 'agung', 'motor', 'bangkalan', 'parsial', 'variabel', 'kualitas', 'produk', 'mempunyah', 'pengaruh', 'dominan', 'keputusan', 'pembelian', 'sepeda', 'motor', 'honda', 'supra', 'x', 'studi', 'dealer', 'surya', 'agung', 'motor', 'bangkalan', 'kunci', 'atribut', 'produk', 'keputusan', 'pembelian'], ['abstrak', 'tujuan', 'penelitian', 'pengaruh', 'variabel', 'kualitas', 'pelayanan', 'profesionalisme', 'keterampilan', 'sikap', 'perilaku', 'aksesibilitas', 'fleksibilitas', 'reliabilitas', 'kepercayaan', 'reputasi', 'kredibilitas', 'service', 'recovery', 'serviscape', 'kepuasan', 'pasien', 'y', 'rumah', 'sakit', 'terpadu', 'surabaya', 'variabel', 'kualitas', 'pelayanan', 'berpengaruh', 'kepuasan', 'pasien', 'rumah', 'sakit', 'terpadu', 'surabaya', 'berdasarkan', 'hasil', 'penelitian', 'nilai', 'r', 'square', 'besarnya', 'pengaruh', 'variabel', 'bebas', 'variabel', 'terikat', 'sisanya', 'dipengaruhi', 'variabel', 'diteliti', 'penelitian', 'berdasarkan', 'uji', 'f', 'variabel', 'variabel', 'kualitas', 'pelayanan', 'profesionalisme', 'keterampilan', 'sikap', 'perilaku', 'aksesibilitas', 'fleksibilitas', 'reliabilitas', 'kepercayaan', 'reputasi', 'kredibilitas', 'service', 'recovery', 'servisecape', 'simultan', 'berpengaruh', 'signifikan', 'kepuasan', 'pasien', 'y', 'rumah', 'sakit', 'terpadu', 'surabaya', 'berdasarkan', 'uji', 't', 'parsial', 'variabel', 'profesionalisme', 'keterampilan', 'sikap', 'perilaku', 'aksesibilitas', 'fleksibilitas', 'reliabilitas', 'kepercayaan', 'reputasi', 'kredibilitas', 'servisecape', 'berpengaruh', 'signifikan', 'variabel', 'terikat', 'variabel', 'service', 'recovery', 'berpengaruh', 'signifikan', 'kepuasan', 'pasien', 'y', 'rumah', 'sakit', 'terpadu', 'surabaya', 'variabel', 'berpengaruh', 'variabel', 'service', 'recovery', 'kunci', 'kualitas', 'pelayanan', 'kepuasan', 'pasien'], ['tujuan', 'penlitian', 'variabel', 'iklan', 'berdasarkan', 'konsep', 'aida', 'berpengaruh', 'signifikan', 'keputusan', 'pembelian', 'helm', 'ink', 'kota', 'bangkalan', 'variabel', 'konsep', 'iklan', 'aida', 'manakah', 'berpengaruh', 'dominan', 'keputusan', 'pembelian', 'helm', 'ink', 'kota', 'bangkalan', 'penelitian', 'pendekatan', 'pendekatan', 'kuantitatif', 'berusaha', 'pengaruh', 'iklan', 'keputusan', 'pembelian', 'konsumen', 'helm', 'ink', 'bangkalan', 'teknik', 'pengambilan', 'sampel', 'purposive', 'sampling', 'responden', 'teknik', 'pengumpulan', 'data', 'kuesioner', 'kepustakaan', 'skala', 'likert', 'mengukur', 'responden', 'menguji', 'instrumen', 'uji', 'validitas', 'uji', 'reliabilitas', 'uji', 'asumsi', 'klasik', 'teknik', 'analisis', 'data', 'analisis', 'regresi', 'linier', 'berganda', 'variabel', 'variabel', 'uji', 'f', 'uji', 'hasil', 'penelitian', 'variabel', 'iklan', 'attention', 'interest', 'desire', 'action', 'berpengaruh', 'simultan', 'keputusan', 'pembelian', 'konsumen', 'helm', 'ink', 'bangkalan', 'variabel', 'attention', 'berpengaruh', 'dominan', 'keputusan', 'pembelian', 'konsumen', 'helm', 'ink', 'bangkalan', 'kunci', 'iklan', 'attention', 'interest', 'desire', 'action', 'keputusan', 'pembelian', 'konsumen'], ['abstrak', 'tujuan', 'penelitian', 'menganalisis', 'atribut', 'kualitas', 'pelayanan', 'berdasarkan', 'tingkat', 'kepentingan', 'tingkat', 'kinerja', 'pengguna', 'sepeda', 'motor', 'jembatan', 'suramadu', 'kepuasan', 'pengguna', 'sepeda', 'motor', 'kualitas', 'pelayanan', 'jembatan', 'suramadu', 'berdasarkan', 'hasil', 'penelitian', 'diagram', 'kartesius', 'importance', 'performance', 'enam', 'atribut', 'fokus', 'utama', 'ketidak', 'puasan', 'responden', 'lampu', 'penerangan', 'jembatan', 'suramadu', 'terpasang', 'menyala', 'malam', 'petugas', 'jasa', 'marga', 'berpenampilan', 'rapi', 'kondisi', 'jalan', 'jembatan', 'suramadu', 'mulus', 'berlubang', 'petugas', 'tiket', 'teliti', 'uang', 'kembalian', 'pt', 'jasa', 'marga', 'jaminan', 'asuransi', 'kecelakaan', 'pengguna', 'sepeda', 'motor', 'jembatan', 'suramadu', 'petugas', 'patroli', 'memperhatikan', 'kepentingan', 'pengguna', 'sepeda', 'motor', 'mogok', 'ban', 'bocor', 'dll', 'kunci', 'kualitas', 'pelayanan', 'kepuasan', 'importance', 'performance'], ['ulfiyatun', 'mutohharoh', 'analisis', 'menentukan', 'preferensi', 'belanja', 'online', 'produk', 'fashion', 'studi', 'mahasiwa', 'fakultas', 'ekonomi', 'trunojoyo', 'journal', 'of', 'economics', 'program', 'studi', 'manajemen', 'fakultas', 'ekonomi', 'universitas', 'trunojoyo', 'madura', 'universitas', 'trunojoyo', 'madura', 'dibawah', 'bimbingan', 'drs', 'mohamad', 'tambrin', 'mm', 'yustina', 'crismardani', 'mm', 'internet', 'sistem', 'informasi', 'global', 'berbasis', 'komputer', 'internet', 'menggeser', 'budaya', 'pembelian', 'produk', 'konvensional', 'praktis', 'modern', 'berbelanja', 'online', 'dirilis', 'mahasiswa', 'pembelian', 'produk', 'online', 'produk', 'dibeli', 'mahasiswa', 'produk', 'fashion', 'penelitian', 'tujuan', 'menganalisis', 'menentukan', 'preferensi', 'belanja', 'online', 'produk', 'fashion', 'mahasiswa', 'fakultas', 'ekonomi', 'universitas', 'trunojoyo', 'madura', 'faktor', 'dipertimbangkan', 'menetukan', 'preferensi', 'belanja', 'online', 'produk', 'fashion', 'mahasiswa', 'fakultas', 'ekonomi', 'universitas', 'trunojoyo', 'madura', 'penelitian', 'variabel', 'bebas', 'variabel', 'terikat', 'variabel', 'berketergantungan', 'interdependent', 'variable', 'jenis', 'penelitian', 'penelitian', 'deskriptif', 'metode', 'penelitian', 'sampel', 'accidental', 'sampling', 'populasi', 'responden', 'mahasiswa', 'fakultas', 'ekonomi', 'universitas', 'trunojoyo', 'madura', 'berbelanja', 'produk', 'fashion', 'online', 'metode', 'analisis', 'analisis', 'faktor', 'hasil', 'penelitian', 'hasil', 'statistic', 'analisis', 'faktor', 'konfirmatori', 'didapatkan', 'nilai', 'kmo', 'item', 'variabel', 'preferensi', 'belanja', 'online', 'menghasilkan', 'nilai', 'rendah', 'klasifikasi', 'miserable', 'kmo', 'rendah', 'hasil', 'statistik', 'analisis', 'faktor', 'konfirmatori', 'didapatkan', 'nilai', 'kmo', 'ukuran', 'kecukuperatan', 'hubungan', 'variabel', 'analisis', 'faktor', 'data', 'uji', 'analisis', 'faktor', 'layak', 'kesimpulan', 'penelitian', 'harga', 'pelayanan', 'alternatif', 'faktor', 'menentukan', 'preferensi', 'belanja', 'online', 'produk', 'fashion', 'mahasiswa', 'fakultas', 'ekonomi', 'universitas', 'trunojoyo', 'madura', 'berdasarkan', 'hasil', 'pengujian', 'faktor', 'harga', 'faktor', 'dipertimbangkan', 'mahasiswa', 'fakultas', 'ekonomi', 'universitas', 'trunojoyo', 'madura', 'menentukan', 'preferensi', 'belanja', 'online', 'produk', 'fashion'], ['abstrak', 'tujuan', 'penelitian', 'pengaruh', 'perilaku', 'konsumen', 'kebudayaan', 'sosial', 'pribadi', 'psikologis', 'keputusan', 'pembelian', 'produk', 'susu', 'cair', 'merek', 'indomilk', 'swalayan', 'tom', 'jerry', 'bangkalan', 'variabel', 'manakah', 'perilaku', 'konsumen', 'berpengaruh', 'dominan', 'keputusan', 'pembelian', 'konsumen', 'produk', 'susu', 'cair', 'merek', 'indomilk', 'penelitian', 'pendekatan', 'pendekatan', 'kuantitatif', 'berusaha', 'pengaruh', 'perilaku', 'konsumen', 'keputusan', 'pembelian', 'produk', 'susu', 'cair', 'merek', 'indomilk', 'studi', 'konsumen', 'swalayan', 'tom', 'jerry', 'bangkalan', 'teknik', 'pengambilan', 'sampel', 'purposive', 'sampling', 'pengumpulan', 'data', 'wawancara', 'kepustakaan', 'kuesioner', 'skala', 'likert', 'mengukur', 'menguji', 'instrumen', 'uji', 'validitas', 'uji', 'reliabilitas', 'uji', 'asumsi', 'teknik', 'analisis', 'data', 'analisis', 'regresi', 'linier', 'berganda', 'variabel', 'variabel', 'uji', 'f', 'uji', 'hasil', 'penelitian', 'variabel', 'perilaku', 'konsumen', 'kebudayaan', 'sosial', 'pribadi', 'psikologis', 'berpengaruh', 'simultan', 'keputusan', 'pembelian', 'produk', 'susu', 'cair', 'merek', 'indomilk', 'variabel', 'psikologis', 'berpengaruh', 'dominan', 'keputusan', 'pembelian', 'produk', 'susu', 'cair', 'merek', 'indomilk', 'kunci', 'perilaku', 'konsumen', 'kebudayaan', 'sosial', 'pribadi', 'psikologis', 'keputusan', 'pembelian'], ['abstrak', 'tujuan', 'penelitian', 'pengaruh', 'bauran', 'pemasaran', 'produk', 'harga', 'distribusi', 'promosi', 'signifikan', 'simultan', 'parsial', 'keputusan', 'pembelian', 'konsumen', 'variabel', 'manakah', 'berpengaruh', 'dominan', 'keputusan', 'konsumen', 'pembelian', 'produk', 'petis', 'ikan', 'tuna', 'kelurahan', 'banyuanyar', 'kabupaten', 'sampang', 'objek', 'penelitian', 'kosumen', 'produk', 'petis', 'ikan', 'tuna', 'kelurahan', 'banyuanyar', 'kabupaten', 'sampang', 'sampel', 'konsumen', 'teknik', 'analisis', 'data', 'meguji', 'hipotesis', 'regresi', 'linier', 'berganda', 'memakai', 'uji', 'f', 'uji', 'berdasar', 'hasil', 'penelitian', 'model', 'regresi', 'linier', 'berganda', 'sistematis', 'hasil', 'analisis', 'penelitian', 'simultan', 'uji', 'bauran', 'pemasaran', 'produk', 'harga', 'distribusi', 'promosi', 'pengaruh', 'signifikan', 'keputusan', 'pembelian', 'produk', 'petis', 'ikan', 'tuna', 'kelurahan', 'banyuanyar', 'kabupaten', 'sampang', 'parsial', 'uji', 't', 'variabel', 'produk', 'harga', 'promosi', 'berpengaruh', 'signifikan', 'variabel', 'ditribusi', 'berpengaruh', 'signifikan', 'keputusan', 'pembelian', 'produk', 'petis', 'ikan', 'tuna', 'kelurahan', 'banyuanyar', 'kabupaten', 'sampang', 'variabel', 'produk', 'berpengaruh', 'keputusan', 'pembelian', 'kunci', 'produk', 'harga', 'promosi', 'distribusi', 'keputusan', 'pembelian'], ['abstrak', 'tujuan', 'penelitian', 'pengaruh', 'pesan', 'iklan', 'televisi', 'isi', 'pesan', 'struktur', 'pesan', 'format', 'pesan', 'sumber', 'pesan', 'simultan', 'minat', 'beli', 'jamu', 'tolak', 'angin', 'sido', 'muncul', 'konsumen', 'pasar', 'manyar', 'surabaya', 'variabel', 'pesan', 'iklan', 'televisi', 'berpengaruh', 'dominan', 'minat', 'beli', 'jamu', 'tolak', 'angin', 'sido', 'muncul', 'konsumen', 'pasar', 'manyar', 'surabaya', 'penelitian', 'pendekatan', 'pendekatan', 'kuantitatif', 'berusaha', 'pengaruh', 'pesan', 'iklan', 'televisi', 'minat', 'beli', 'jamu', 'tolak', 'angin', 'sido', 'muncul', 'konsumen', 'pasar', 'manyar', 'surabaya', 'teknik', 'pengambilan', 'sampel', 'purposive', 'sampling', 'pengumpulan', 'data', 'wawancara', 'kepustakaan', 'kuesioner', 'skala', 'likert', 'mengukur', 'menguji', 'instrumen', 'uji', 'validitas', 'uji', 'reliabilitas', 'uji', 'asumsi', 'teknik', 'analisis', 'data', 'analisis', 'regresi', 'linier', 'berganda', 'variabel', 'variabel', 'uji', 'f', 'uji', 'hasil', 'penelitian', 'variabel', 'pesan', 'iklan', 'televisi', 'isi', 'pesan', 'struktur', 'pesan', 'format', 'pesan', 'sumber', 'pesan', 'simultan', 'minat', 'beli', 'jamu', 'tolak', 'angin', 'sido', 'muncul', 'konsumen', 'pasar', 'manyar', 'surabaya', 'variabel', 'isi', 'pesan', 'berpengaruh', 'dominan', 'minat', 'beli', 'jamu', 'tolak', 'angin', 'sido', 'muncul', 'konsumen', 'pasar', 'manyar', 'surabaya', 'kuci', 'pesan', 'iklan', 'televisi', 'isi', 'pesan', 'struktur', 'pesan', 'format', 'pesan', 'sumber', 'pesan', 'minat', 'beli'], ['tujuan', 'penelitian', 'pengaruh', 'variabel', 'persepsi', 'nilai', 'kualitas', 'produk', 'kualitas', 'pelayanan', 'harga', 'faktor', 'emosional', 'kemudahan', 'kepuasan', 'pelanggan', 'simultan', 'parsial', 'variebel', 'manakah', 'memilik', 'pengaruh', 'terbesar', 'kepuasan', 'pelanggan', 'produk', 'sepeda', 'motor', 'merek', 'yamaha', 'new', 'jupiter', 'z', 'kota', 'bangkalan', 'penelitian', 'pendekatan', 'kuantitatif', 'metode', 'analisis', 'data', 'regresi', 'liniear', 'berganda', 'populasi', 'penelitian', 'pelanggan', 'sepeda', 'motor', 'merek', 'yamaha', 'new', 'jupiter', 'z', 'kota', 'bangkalan', 'teknik', 'pengambilan', 'sampel', 'penelitian', 'metode', 'purposive', 'sampling', 'responden', 'responden', 'metode', 'pengumpulan', 'data', 'menyebarkan', 'kuesioner', 'hasilnya', 'diolah', 'bantuan', 'aplikasi', 'komputer', 'spss', 'for', 'windows', 'hasil', 'penelitian', 'membuktikan', 'uji', 'f', 'simultan', 'variabel', 'persepsi', 'nilai', 'kualitas', 'produk', 'kualitas', 'pelayanan', 'harga', 'faktor', 'emosional', 'kemudahan', 'berpengaruh', 'kepuasan', 'pelanggan', 'sepeda', 'motor', 'merek', 'yamaha', 'new', 'jupiter', 'z', 'kota', 'bangkalan', 'hasil', 'penelitian', 'membuktikan', 'uji', 't', 'parsial', 'variabel', 'persepsi', 'nilai', 'kualitas', 'produk', 'kualitas', 'pelayanan', 'harga', 'faktor', 'emosional', 'kemudahan', 'berpengaruh', 'kepuasan', 'pelanggan', 'sepeda', 'motor', 'merek', 'yamaha', 'new', 'jupiter', 'z', 'kota', 'bangkalan', 'variabel', 'harga', 'memiliki', 'pengaruh', 'terbesar'], ['abstrak', 'penelitian', 'bertujuan', 'pengaruh', 'unsur', 'unsur', 'komunikasi', 'pengirim', 'pesan', 'komunikator', 'pesan', 'media', 'komunikasi', 'penerima', 'pesan', 'komunikan', 'umpan', 'produktifitas', 'kerja', 'pegawai', 'negeri', 'sipil', 'dinas', 'pendidikian', 'kabupaten', 'bangkalan', 'simultan', 'parsial', 'populasi', 'penelitian', 'pegawai', 'negeri', 'sipil', 'dinas', 'pendidikan', 'kabupaten', 'bangkalan', 'pegawai', 'sampel', 'pegawai', 'diambil', 'proporsional', 'random', 'sampling', 'metode', 'pengumpulan', 'data', 'membagikan', 'kuesioner', 'riset', 'perpustakaan', 'data', 'teknik', 'pengolahan', 'data', 'pengolahan', 'data', 'bantuan', 'perangkat', 'lunak', 'spss', 'versi', 'uji', 'validitas', 'uji', 'reabilitas', 'skala', 'likert', 'hasil', 'penelitian', 'faktor', 'faktor', 'komunikasi', 'simultan', 'pengaruh', 'signifikan', 'produktifitas', 'kerja', 'nilai', 'fhitung', 'ftabel', 'tingkat', 'signifikansi', 'koefisien', 'determinasi', 'berganda', 'variabel', 'komunikator', 'pesan', 'media', 'komunikasi', 'komunikan', 'umpan', 'menerangkan', 'variabel', 'produktifitas', 'kerja', 'y', 'sisanya', 'dipengaruhi', 'variabel', 'dimasukkan', 'model', 'penelitian', 'parsial', 'varibel', 'pengaruh', 'langsung', 'positif', 'signifikan', 'variabel', 'kominkator', 'komunikan', 'pesan', 'media', 'komunikasi', 'umpan', 'berpengaruh', 'positif', 'sigifikan', 'hasil', 'analisis', 'variabel', 'komunikator', 'peranan', 'dominan', 'upaya', 'meningkatkan', 'produktifitas', 'kerja', 'kunci', 'pengirim', 'pesan', 'komunikator', 'pesan', 'media', 'komunikasi', 'penerima', 'pesan', 'komunikan', 'umpan', 'produktivitas', 'kerja'], ['abstrak', 'tujuan', 'penelitian', 'mengidentifikasi', 'atribut', 'produk', 'mempengaruhi', 'keputusan', 'pembelian', 'produk', 'penyedap', 'masako', 'simultan', 'parsial', 'variabel', 'manakah', 'berpengaruh', 'penelitian', 'metode', 'kuantitatif', 'dimana', 'populasinya', 'kecamatan', 'robatal', 'sampang', 'membeli', 'mengkonsumsi', 'produk', 'penyedap', 'masako', 'teknik', 'pengambilan', 'sampel', 'accidental', 'sampling', 'diperoleh', 'sampel', 'responden', 'hipotesis', 'penelitian', 'variabel', 'atribut', 'produk', 'merek', 'kemasan', 'pelabelan', 'layanan', 'pelengkap', 'berpengaruh', 'simultan', 'keputusan', 'pembelian', 'produk', 'penyedap', 'masako', 'variabel', 'merek', 'berpengaruh', 'keputusan', 'pembelian', 'produk', 'penyedap', 'masako', 'hasil', 'penelitian', 'uji', 'f', 'simultan', 'simultan', 'variabel', 'independen', 'merek', 'kemasan', 'pelabelan', 'layanan', 'pelengkap', 'mempengaruhi', 'variabel', 'dependen', 'keputusan', 'pembelian', 'hipotesis', 'diterima', 'hasil', 'uji', 't', 'parsial', 'membuktikan', 'individu', 'variabel', 'bebas', 'berpengaruh', 'positif', 'signifikan', 'keputusan', 'pembelian', 'hasil', 'variabel', 'merek', 'pengaruh', 'hipotesis', 'diterima', 'simpulan', 'penelitian', 'simultan', 'pengaruh', 'signifikan', 'variabel', 'bebas', 'variabel', 'terikatnya', 'keputusan', 'pembelian', 'parsial', 'variabel', 'bebas', 'berpengaruh', 'positif', 'signifikan', 'keputusan', 'pembelian', 'variabel', 'bebas', 'parsial', 'individu', 'pengaruh', 'variabel', 'keputusan', 'pembelian', 'kunci', 'atribut', 'produk', 'keputusan', 'pembelian'], ['abstrak', 'ike', 'miranti', 'pengaruh', 'strategi', 'promosi', 'keputusan', 'pembelian', 'studi', 'pt', 'maan', 'ghodaqo', 'siddiq', 'lestari', 'jombang', 'dibimbing', 'bambang', 'setiyo', 'pambudi', 'mm', 'nirma', 'kurriwati', 'sp', 'msi', 'tujuan', 'penelitian', 'pengaruh', 'strategi', 'promosi', 'periklanan', 'promosi', 'penjualan', 'publisitas', 'penjualan', 'personal', 'berpengaruh', 'keputusan', 'pembelian', 'y', 'pt', 'maan', 'ghodaqo', 'siddiq', 'lestari', 'variabel', 'strategi', 'promosi', 'berpengaruh', 'keputusan', 'pembelian', 'studi', 'pt', 'maan', 'ghodaqo', 'siddiq', 'lestari', 'pendekatan', 'penelitian', 'penelitian', 'kuantitatif', 'penelitian', 'menitikberatkan', 'pengujian', 'hipotesis', 'populasi', 'penelitian', 'konsumen', 'membeli', 'air', 'mineral', 'kemasan', 'metode', 'pengambilan', 'sampel', 'purprosive', 'sampling', 'responden', 'penelitian', 'maret', 'metode', 'pengumpulan', 'data', 'menyebarkan', 'kuesioner', 'menguji', 'instrument', 'uji', 'validitas', 'uji', 'reabilitas', 'uji', 'asumsi', 'klasik', 'teknis', 'analisis', 'data', 'analisis', 'regresi', 'linier', 'berganda', 'memakaiuji', 'f', 'uji', 'teknik', 'pengolahan', 'data', 'penelitian', 'software', 'spss', 'versi', 'skala', 'likert', 'berdasarkan', 'hasil', 'penelitian', 'nilai', 'r', 'square', 'besarnya', 'pengaruh', 'variabel', 'bebas', 'variabel', 'terikat', 'sisanya', 'dipengaruhi', 'variabel', 'diteliti', 'penelitian', 'berdasarkan', 'uji', 'f', 'variabel', 'strategi', 'promosi', 'periklanan', 'promosi', 'penjualan', 'publisitas', 'penjualan', 'personal', 'simultan', 'berpengaruh', 'signifikan', 'keputusan', 'pembelian', 'y', 'air', 'mineral', 'kemasan', 'pt', 'maan', 'ghodaqo', 'siddiq', 'lestari', 'berdasarkan', 'uji', 't', 'parsial', 'variabel', 'periklanan', 'berpengaruh', 'signifikan', 'variabel', 'terikat', 'variabel', 'promosi', 'penjualan', 'publisitas', 'penjualan', 'personal', 'berpengaruh', 'signifikan', 'keputusan', 'pembelian', 'y', 'variabel', 'berpengaruh', 'variabel', 'penjualan', 'personal', 'kunci', 'strategi', 'promosi', 'keputusan', 'pembelian'], ['kusniyah', 'analisis', 'volume', 'perdagangan', 'saham', 'return', 'saham', 'stock', 'split', 'perusahaan', 'go', 'public', 'bursa', 'efek', 'indonesia', 'dibawah', 'bimbingan', 'hj', 'evaliati', 'amaniyah', 'msm', 'prasetyo', 'nugroho', 'mm', 'kenaikan', 'harga', 'saham', 'menyebabkan', 'permintaan', 'pembelian', 'saham', 'mengalami', 'penurunan', 'menyebabkan', 'harga', 'saham', 'perusahaan', 'statis', 'fluktuatif', 'menghindari', 'munculnya', 'kondisi', 'salah', 'langkah', 'diambil', 'perusahaan', 'stock', 'split', 'diharapkan', 'meningkatkan', 'likuiditas', 'saham', 'tujuan', 'penelitian', 'bertujuan', 'memperoleh', 'bukti', 'empiris', 'aktifitas', 'stock', 'split', 'perbedaan', 'volume', 'perdagangan', 'saham', 'memperoleh', 'bukti', 'empiris', 'aktifitas', 'stock', 'split', 'perbedaan', 'return', 'saham', 'pendekatan', 'penelitian', 'penelitian', 'pendekatan', 'kuantitatif', 'populasi', 'penelitian', 'perusahaan', 'go', 'public', 'bursa', 'efek', 'indonesia', 'aktifitas', 'stock', 'split', 'teknik', 'pengambilan', 'sampel', 'metode', 'purposive', 'sampling', 'sampel', 'perusahaan', 'dianalisis', 'uji', 't', 'paired', 'sample', 'kesimpulan', 'penelitian', 'perbedaan', 'volume', 'perdagangan', 'saham', 'stock', 'split', 'perusahaan', 'sampel', 'perbedaan', 'volume', 'perdagangan', 'saham', 'stock', 'split', 'perusahaan', 'sampel', 'perbedaan', 'return', 'saham', 'stock', 'split', 'perusahaan', 'sampel', 'perbedaan', 'return', 'saham', 'stock', 'split', 'perusahaan', 'sampel', 'kunci', 'stock', 'split', 'volume', 'perdagangan', 'saham', 'return', 'saham'], ['muzanni', 'peranan', 'manajemen', 'piutang', 'tertahadap', 'rentabilitas', 'koperasi', 'berbasis', 'syariah', 'koperasi', 'berbasis', 'konvensional', 'studi', 'koperasi', 'bmt', 'ugt', 'sidogiri', 'cabang', 'pembantu', 'bangkalan', 'kpri', 'kopergu', 'bangkalan', 'bimbingan', 'hj', 'evaliati', 'amaniyah', 'msm', 'purnamawati', 'lembaga', 'keuangan', 'memperoleh', 'pendapatan', 'pinjaman', 'pendanaan', 'nasabah', 'anggota', 'otomatis', 'piutang', 'modal', 'tertanam', 'piutang', 'potensi', 'keuntungan', 'diperoleh', 'modal', 'tertanam', 'piutang', 'potensi', 'keuntungan', 'didapatkan', 'besarnya', 'piutang', 'penerapan', 'manajemen', 'piutang', 'berpengaruh', 'rentabilitas', 'lembaga', 'tujuan', 'penelitian', 'peranan', 'pengelolaan', 'piutang', 'rentabilitas', 'diterapkan', 'koperasi', 'bmt', 'ugt', 'sidogiri', 'cabang', 'pembantu', 'bangkalan', 'kpri', 'kopergu', 'bangkalan', 'penelitian', 'pendekatan', 'deskriptif', 'alat', 'analisis', 'rasio', 'aktivitas', 'rasio', 'rentabilitas', 'kesimpulan', 'penelitian', 'studi', 'manajemen', 'piutang', 'koperasi', 'bmt', 'ugt', 'sidogiri', 'cabang', 'pembantu', 'bangkalan', 'memiliki', 'kriterian', 'efisien', 'kpri', 'kopergu', 'bangkalan', 'efisien', 'koperasi', 'memiliki', 'tingkat', 'pertumbuhan', 'signifikan', 'koperasi', 'bmt', 'ugt', 'sidogiri', 'cabang', 'pembantu', 'bangkalan', 'memiliki', 'tingkat', 'perputaran', 'piutang', 'periode', 'pengumpulan', 'cepat', 'kpri', 'kopergu', 'bangkalan', 'global', 'rasio', 'rentabilitas', 'ekonomi', 'koperasi', 'bmt', 'ugt', 'sidogiri', 'cabang', 'pembantu', 'bangkalan', 'kategori', 'efisien', 'kpri', 'kopergu', 'bangkalan', 'kategori', 'efisien', 'perkembangan', 'rentabilitas', 'lembaga', 'kategori', 'efisien', 'perkembangan', 'rasio', 'rentabilitas', 'modal', 'dimiliki', 'koperasi', 'bmt', 'ugt', 'sidogiri', 'cabang', 'pembantu', 'bangkalan', 'mengalami', 'perkembangan', 'meningkat', 'kpri', 'kopergu', 'bangkalan', 'mengalami', 'penurunan', 'kunci', 'manajemen', 'piutang', 'rentabilitas'], ['anissa', 'novianti', 'pengaruh', 'atribut', 'produk', 'keputusan', 'pembelian', 'minyak', 'goreng', 'sania', 'studi', 'perumahan', 'graha', 'kamal', 'permai', 'kecamatan', 'kamal', 'dibawah', 'bimbingan', 'nurita', 'andriani', 'ir', 'hadi', 'purnomo', 'mm', 'tujuan', 'penelitian', 'pengaruh', 'atribut', 'produk', 'merek', 'kemasan', 'label', 'simultan', 'keputusan', 'pembelian', 'minyak', 'goreng', 'sania', 'studi', 'perumahan', 'graha', 'kamal', 'permai', 'kecamatan', 'kamal', 'pengaruh', 'atribut', 'produk', 'merek', 'kemasan', 'label', 'parsial', 'keputusan', 'pembelian', 'minyak', 'goreng', 'sania', 'studi', 'perumahan', 'graha', 'kamal', 'permai', 'kecamatan', 'kamal', 'variabel', 'atribut', 'produk', 'berpengaruh', 'dominan', 'keputusan', 'pembelian', 'studi', 'perumahan', 'graha', 'kamal', 'permai', 'kecamatan', 'kamal', 'penelitian', 'pendekatan', 'kuantitatif', 'berusaha', 'pengaruh', 'atribut', 'produk', 'keputusan', 'pembelian', 'minyak', 'goreng', 'sania', 'studi', 'perumahan', 'graha', 'kamal', 'permai', 'kecamatan', 'kamal', 'teknik', 'pengambilan', 'sampel', 'simple', 'random', 'sampling', 'responden', 'teknik', 'pengumpulan', 'data', 'wawancara', 'kepustakaan', 'kuesioner', 'skala', 'likert', 'mengukur', 'responden', 'menguji', 'instrumen', 'uji', 'validitas', 'uji', 'reliabilitas', 'uji', 'asumsi', 'klasik', 'teknik', 'analisis', 'data', 'analisis', 'regresi', 'linier', 'berganda', 'variabel', 'variabel', 'uji', 'f', 'uji', 'hasil', 'penelitian', 'variabel', 'atribut', 'produk', 'merek', 'kemasan', 'label', 'berpengaruh', 'simultan', 'parsial', 'keputusan', 'pembelian', 'studi', 'perumahan', 'graha', 'kamal', 'permai', 'kecamatan', 'kamal', 'variabel', 'atribut', 'produk', 'berpengaruh', 'parsial', 'keputusan', 'pembelian', 'minyak', 'goreng', 'sania', 'studi', 'perumahan', 'graha', 'kamal', 'permai', 'kecamatan', 'kamal', 'variabel', 'berpengaruh', 'dominan', 'variabel', 'merek', 'kunci', 'atribut', 'produk', 'keputusan', 'pembelian']]\n"
     ]
    }
   ],
   "source": [
    "index_iloc = 0\n",
    "len_df = len(dataCSV.index)\n",
    "array_stopwords = []\n",
    "for kata in range(len_df):\n",
    "    # indexData itu ambil tiap bagian dari data frame dengan nama dataCSV\n",
    "    indexData = dataCSV.iloc[index_iloc, [1]].values\n",
    "    clean_words = [w for w in word_tokenize(indexData[0].lower())\n",
    "                                    if w.isalpha()\n",
    "                                    and w not in stopwords.words('indonesian')]\n",
    "    \n",
    "    array_stopwords.append(clean_words)\n",
    "    index_iloc += 1\n",
    "\n",
    "    # FreqDist(clean_words).most_common(20)\n",
    "print(array_stopwords)"
   ]
  },
  {
   "cell_type": "markdown",
   "metadata": {},
   "source": [
    "## stemming - sastrawi"
   ]
  },
  {
   "cell_type": "code",
   "execution_count": 55,
   "metadata": {},
   "outputs": [],
   "source": [
    "# mendefinisikan function stemming\n",
    "factory = StemmerFactory()\n",
    "stemmer = factory.create_stemmer()\n",
    "\n",
    "array_stemming = [] \n",
    "for j in array_stopwords:\n",
    "    # proses stem per kalimat\n",
    "    temp = \"\"\n",
    "    for i in j:\n",
    "        # print(i)\n",
    "        temp = temp +\" \"+ i\n",
    "\n",
    "    hasil = stemmer.stem(temp)\n",
    "    array_stemming.append(hasil)\n",
    "# print('array ', array_stemming)"
   ]
  },
  {
   "cell_type": "markdown",
   "metadata": {},
   "source": [
    "## export to csv"
   ]
  },
  {
   "cell_type": "code",
   "execution_count": 56,
   "metadata": {},
   "outputs": [
    {
     "data": {
      "text/html": [
       "<div>\n",
       "<style scoped>\n",
       "    .dataframe tbody tr th:only-of-type {\n",
       "        vertical-align: middle;\n",
       "    }\n",
       "\n",
       "    .dataframe tbody tr th {\n",
       "        vertical-align: top;\n",
       "    }\n",
       "\n",
       "    .dataframe thead th {\n",
       "        text-align: right;\n",
       "    }\n",
       "</style>\n",
       "<table border=\"1\" class=\"dataframe\">\n",
       "  <thead>\n",
       "    <tr style=\"text-align: right;\">\n",
       "      <th></th>\n",
       "      <th>judul</th>\n",
       "    </tr>\n",
       "  </thead>\n",
       "  <tbody>\n",
       "    <tr>\n",
       "      <th>0</th>\n",
       "      <td>PENGARUH RELATIONSHIP MARKETING TERHADAP LOYAL...</td>\n",
       "    </tr>\n",
       "    <tr>\n",
       "      <th>1</th>\n",
       "      <td>PENGARUH SELF EFFICACY TERHADAP PRESTASI AKADE...</td>\n",
       "    </tr>\n",
       "    <tr>\n",
       "      <th>2</th>\n",
       "      <td>ANALISIS PERSEPSI BRAND ASSOCIATION MENURUT PE...</td>\n",
       "    </tr>\n",
       "    <tr>\n",
       "      <th>3</th>\n",
       "      <td>Pengukuran Website Quality Pada Situs Sistem A...</td>\n",
       "    </tr>\n",
       "    <tr>\n",
       "      <th>4</th>\n",
       "      <td>PENGARUH STRUKTUR MODAL DAN LIKUIDITAS TERHADA...</td>\n",
       "    </tr>\n",
       "  </tbody>\n",
       "</table>\n",
       "</div>"
      ],
      "text/plain": [
       "                                               judul\n",
       "0  PENGARUH RELATIONSHIP MARKETING TERHADAP LOYAL...\n",
       "1  PENGARUH SELF EFFICACY TERHADAP PRESTASI AKADE...\n",
       "2  ANALISIS PERSEPSI BRAND ASSOCIATION MENURUT PE...\n",
       "3  Pengukuran Website Quality Pada Situs Sistem A...\n",
       "4  PENGARUH STRUKTUR MODAL DAN LIKUIDITAS TERHADA..."
      ]
     },
     "execution_count": 56,
     "metadata": {},
     "output_type": "execute_result"
    }
   ],
   "source": [
    "dataCSV = dataCSV.drop('abstrak_ID', axis=1)\n",
    "dataCSV.head()\n"
   ]
  },
  {
   "cell_type": "code",
   "execution_count": 57,
   "metadata": {},
   "outputs": [
    {
     "data": {
      "text/html": [
       "<div>\n",
       "<style scoped>\n",
       "    .dataframe tbody tr th:only-of-type {\n",
       "        vertical-align: middle;\n",
       "    }\n",
       "\n",
       "    .dataframe tbody tr th {\n",
       "        vertical-align: top;\n",
       "    }\n",
       "\n",
       "    .dataframe thead th {\n",
       "        text-align: right;\n",
       "    }\n",
       "</style>\n",
       "<table border=\"1\" class=\"dataframe\">\n",
       "  <thead>\n",
       "    <tr style=\"text-align: right;\">\n",
       "      <th></th>\n",
       "      <th>judul</th>\n",
       "      <th>abstrak</th>\n",
       "    </tr>\n",
       "  </thead>\n",
       "  <tbody>\n",
       "    <tr>\n",
       "      <th>0</th>\n",
       "      <td>PENGARUH RELATIONSHIP MARKETING TERHADAP LOYAL...</td>\n",
       "      <td>tuju teliti pengaruh variabel relationship mar...</td>\n",
       "    </tr>\n",
       "    <tr>\n",
       "      <th>1</th>\n",
       "      <td>PENGARUH SELF EFFICACY TERHADAP PRESTASI AKADE...</td>\n",
       "      <td>tuju teliti pengaruh variabel self efficacy ma...</td>\n",
       "    </tr>\n",
       "    <tr>\n",
       "      <th>2</th>\n",
       "      <td>ANALISIS PERSEPSI BRAND ASSOCIATION MENURUT PE...</td>\n",
       "      <td>tuju teliti persepsi brand association langgan...</td>\n",
       "    </tr>\n",
       "    <tr>\n",
       "      <th>3</th>\n",
       "      <td>Pengukuran Website Quality Pada Situs Sistem A...</td>\n",
       "      <td>aplikasi nyata manfaat teknologi informasi kom...</td>\n",
       "    </tr>\n",
       "    <tr>\n",
       "      <th>4</th>\n",
       "      <td>PENGARUH STRUKTUR MODAL DAN LIKUIDITAS TERHADA...</td>\n",
       "      <td>dekat teliti teliti dekat kuantitatif populasi...</td>\n",
       "    </tr>\n",
       "  </tbody>\n",
       "</table>\n",
       "</div>"
      ],
      "text/plain": [
       "                                               judul  \\\n",
       "0  PENGARUH RELATIONSHIP MARKETING TERHADAP LOYAL...   \n",
       "1  PENGARUH SELF EFFICACY TERHADAP PRESTASI AKADE...   \n",
       "2  ANALISIS PERSEPSI BRAND ASSOCIATION MENURUT PE...   \n",
       "3  Pengukuran Website Quality Pada Situs Sistem A...   \n",
       "4  PENGARUH STRUKTUR MODAL DAN LIKUIDITAS TERHADA...   \n",
       "\n",
       "                                             abstrak  \n",
       "0  tuju teliti pengaruh variabel relationship mar...  \n",
       "1  tuju teliti pengaruh variabel self efficacy ma...  \n",
       "2  tuju teliti persepsi brand association langgan...  \n",
       "3  aplikasi nyata manfaat teknologi informasi kom...  \n",
       "4  dekat teliti teliti dekat kuantitatif populasi...  "
      ]
     },
     "execution_count": 57,
     "metadata": {},
     "output_type": "execute_result"
    }
   ],
   "source": [
    "dataCSV['abstrak'] = np.array(array_stemming)\n",
    "dataCSV.head()"
   ]
  },
  {
   "cell_type": "code",
   "execution_count": 58,
   "metadata": {},
   "outputs": [],
   "source": [
    "dataCSV.to_csv('hasil_textProcessing.csv')"
   ]
  }
 ],
 "metadata": {
  "kernelspec": {
   "display_name": "Python 3.9.9 64-bit",
   "language": "python",
   "name": "python3"
  },
  "language_info": {
   "codemirror_mode": {
    "name": "ipython",
    "version": 3
   },
   "file_extension": ".py",
   "mimetype": "text/x-python",
   "name": "python",
   "nbconvert_exporter": "python",
   "pygments_lexer": "ipython3",
   "version": "3.9.9"
  },
  "vscode": {
   "interpreter": {
    "hash": "14958d3aee5f1cad06795f787e54b96185c25fb40dfec723a5be941f3a531b8c"
   }
  }
 },
 "nbformat": 4,
 "nbformat_minor": 2
}
